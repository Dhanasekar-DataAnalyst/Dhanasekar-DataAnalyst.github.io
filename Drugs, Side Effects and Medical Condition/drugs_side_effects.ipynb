{
 "cells": [
  {
   "cell_type": "code",
   "execution_count": 20,
   "id": "d168c6e3-5335-4899-a2a8-6a25a1ab8203",
   "metadata": {},
   "outputs": [],
   "source": [
    "import numpy as np\n",
    "import pandas as pd\n",
    "import matplotlib.pyplot as plt\n",
    "import seaborn as sns"
   ]
  },
  {
   "cell_type": "code",
   "execution_count": null,
   "id": "dde5f2bf-6ceb-431f-a355-a373a3320191",
   "metadata": {},
   "outputs": [],
   "source": []
  },
  {
   "cell_type": "code",
   "execution_count": 21,
   "id": "860d64ff-94ba-49c6-a5b8-7e49ae380c0f",
   "metadata": {},
   "outputs": [],
   "source": [
    "data = pd.read_csv(r\"D:\\Unified Mentor\\Disease\\drugs_side_effects_drugs_com.csv\")"
   ]
  },
  {
   "cell_type": "code",
   "execution_count": 22,
   "id": "a3074cb4-2b64-4eec-bacd-9df0c8d19c13",
   "metadata": {},
   "outputs": [
    {
     "data": {
      "text/html": [
       "<div>\n",
       "<style scoped>\n",
       "    .dataframe tbody tr th:only-of-type {\n",
       "        vertical-align: middle;\n",
       "    }\n",
       "\n",
       "    .dataframe tbody tr th {\n",
       "        vertical-align: top;\n",
       "    }\n",
       "\n",
       "    .dataframe thead th {\n",
       "        text-align: right;\n",
       "    }\n",
       "</style>\n",
       "<table border=\"1\" class=\"dataframe\">\n",
       "  <thead>\n",
       "    <tr style=\"text-align: right;\">\n",
       "      <th></th>\n",
       "      <th>drug_name</th>\n",
       "      <th>medical_condition</th>\n",
       "      <th>side_effects</th>\n",
       "      <th>generic_name</th>\n",
       "      <th>drug_classes</th>\n",
       "      <th>brand_names</th>\n",
       "      <th>activity</th>\n",
       "      <th>rx_otc</th>\n",
       "      <th>pregnancy_category</th>\n",
       "      <th>csa</th>\n",
       "      <th>alcohol</th>\n",
       "      <th>related_drugs</th>\n",
       "      <th>medical_condition_description</th>\n",
       "      <th>rating</th>\n",
       "      <th>no_of_reviews</th>\n",
       "      <th>drug_link</th>\n",
       "      <th>medical_condition_url</th>\n",
       "    </tr>\n",
       "  </thead>\n",
       "  <tbody>\n",
       "    <tr>\n",
       "      <th>0</th>\n",
       "      <td>doxycycline</td>\n",
       "      <td>Acne</td>\n",
       "      <td>(hives, difficult breathing, swelling in your ...</td>\n",
       "      <td>doxycycline</td>\n",
       "      <td>Miscellaneous antimalarials, Tetracyclines</td>\n",
       "      <td>Acticlate, Adoxa CK, Adoxa Pak, Adoxa TT, Alod...</td>\n",
       "      <td>87%</td>\n",
       "      <td>Rx</td>\n",
       "      <td>D</td>\n",
       "      <td>N</td>\n",
       "      <td>X</td>\n",
       "      <td>amoxicillin: https://www.drugs.com/amoxicillin...</td>\n",
       "      <td>Acne Other names: Acne Vulgaris; Blackheads; B...</td>\n",
       "      <td>6.8</td>\n",
       "      <td>760.0</td>\n",
       "      <td>https://www.drugs.com/doxycycline.html</td>\n",
       "      <td>https://www.drugs.com/condition/acne.html</td>\n",
       "    </tr>\n",
       "    <tr>\n",
       "      <th>1</th>\n",
       "      <td>spironolactone</td>\n",
       "      <td>Acne</td>\n",
       "      <td>hives ; difficulty breathing; swelling of your...</td>\n",
       "      <td>spironolactone</td>\n",
       "      <td>Aldosterone receptor antagonists, Potassium-sp...</td>\n",
       "      <td>Aldactone, CaroSpir</td>\n",
       "      <td>82%</td>\n",
       "      <td>Rx</td>\n",
       "      <td>C</td>\n",
       "      <td>N</td>\n",
       "      <td>X</td>\n",
       "      <td>amlodipine: https://www.drugs.com/amlodipine.h...</td>\n",
       "      <td>Acne Other names: Acne Vulgaris; Blackheads; B...</td>\n",
       "      <td>7.2</td>\n",
       "      <td>449.0</td>\n",
       "      <td>https://www.drugs.com/spironolactone.html</td>\n",
       "      <td>https://www.drugs.com/condition/acne.html</td>\n",
       "    </tr>\n",
       "    <tr>\n",
       "      <th>2</th>\n",
       "      <td>minocycline</td>\n",
       "      <td>Acne</td>\n",
       "      <td>skin rash, fever, swollen glands, flu-like sym...</td>\n",
       "      <td>minocycline</td>\n",
       "      <td>Tetracyclines</td>\n",
       "      <td>Dynacin, Minocin, Minolira, Solodyn, Ximino, V...</td>\n",
       "      <td>48%</td>\n",
       "      <td>Rx</td>\n",
       "      <td>D</td>\n",
       "      <td>N</td>\n",
       "      <td>NaN</td>\n",
       "      <td>amoxicillin: https://www.drugs.com/amoxicillin...</td>\n",
       "      <td>Acne Other names: Acne Vulgaris; Blackheads; B...</td>\n",
       "      <td>5.7</td>\n",
       "      <td>482.0</td>\n",
       "      <td>https://www.drugs.com/minocycline.html</td>\n",
       "      <td>https://www.drugs.com/condition/acne.html</td>\n",
       "    </tr>\n",
       "    <tr>\n",
       "      <th>3</th>\n",
       "      <td>Accutane</td>\n",
       "      <td>Acne</td>\n",
       "      <td>problems with your vision or hearing; muscle o...</td>\n",
       "      <td>isotretinoin (oral)</td>\n",
       "      <td>Miscellaneous antineoplastics, Miscellaneous u...</td>\n",
       "      <td>NaN</td>\n",
       "      <td>41%</td>\n",
       "      <td>Rx</td>\n",
       "      <td>X</td>\n",
       "      <td>N</td>\n",
       "      <td>X</td>\n",
       "      <td>doxycycline: https://www.drugs.com/doxycycline...</td>\n",
       "      <td>Acne Other names: Acne Vulgaris; Blackheads; B...</td>\n",
       "      <td>7.9</td>\n",
       "      <td>623.0</td>\n",
       "      <td>https://www.drugs.com/accutane.html</td>\n",
       "      <td>https://www.drugs.com/condition/acne.html</td>\n",
       "    </tr>\n",
       "    <tr>\n",
       "      <th>4</th>\n",
       "      <td>clindamycin</td>\n",
       "      <td>Acne</td>\n",
       "      <td>hives ; difficult breathing; swelling of your ...</td>\n",
       "      <td>clindamycin topical</td>\n",
       "      <td>Topical acne agents, Vaginal anti-infectives</td>\n",
       "      <td>Cleocin T, Clindacin ETZ, Clindacin P, Clindag...</td>\n",
       "      <td>39%</td>\n",
       "      <td>Rx</td>\n",
       "      <td>B</td>\n",
       "      <td>N</td>\n",
       "      <td>NaN</td>\n",
       "      <td>doxycycline: https://www.drugs.com/doxycycline...</td>\n",
       "      <td>Acne Other names: Acne Vulgaris; Blackheads; B...</td>\n",
       "      <td>7.4</td>\n",
       "      <td>146.0</td>\n",
       "      <td>https://www.drugs.com/mtm/clindamycin-topical....</td>\n",
       "      <td>https://www.drugs.com/condition/acne.html</td>\n",
       "    </tr>\n",
       "    <tr>\n",
       "      <th>...</th>\n",
       "      <td>...</td>\n",
       "      <td>...</td>\n",
       "      <td>...</td>\n",
       "      <td>...</td>\n",
       "      <td>...</td>\n",
       "      <td>...</td>\n",
       "      <td>...</td>\n",
       "      <td>...</td>\n",
       "      <td>...</td>\n",
       "      <td>...</td>\n",
       "      <td>...</td>\n",
       "      <td>...</td>\n",
       "      <td>...</td>\n",
       "      <td>...</td>\n",
       "      <td>...</td>\n",
       "      <td>...</td>\n",
       "      <td>...</td>\n",
       "    </tr>\n",
       "    <tr>\n",
       "      <th>2926</th>\n",
       "      <td>benzphetamine</td>\n",
       "      <td>Weight Loss</td>\n",
       "      <td>hives ; difficulty breathing; swelling of your...</td>\n",
       "      <td>benzphetamine</td>\n",
       "      <td>Anorexiants, CNS stimulants</td>\n",
       "      <td>Didrex, Regimex</td>\n",
       "      <td>2%</td>\n",
       "      <td>Rx</td>\n",
       "      <td>X</td>\n",
       "      <td>3</td>\n",
       "      <td>X</td>\n",
       "      <td>phentermine: https://www.drugs.com/phentermine...</td>\n",
       "      <td>Weight Loss (Obesity/Overweight) More than hal...</td>\n",
       "      <td>7.5</td>\n",
       "      <td>17.0</td>\n",
       "      <td>https://www.drugs.com/mtm/benzphetamine.html</td>\n",
       "      <td>https://www.drugs.com/condition/obesity.html</td>\n",
       "    </tr>\n",
       "    <tr>\n",
       "      <th>2927</th>\n",
       "      <td>fenfluramine</td>\n",
       "      <td>Weight Loss</td>\n",
       "      <td>hives ; difficult breathing; swelling of your ...</td>\n",
       "      <td>fenfluramine</td>\n",
       "      <td>Anorexiants, CNS stimulants, Miscellaneous ant...</td>\n",
       "      <td>Fintepla</td>\n",
       "      <td>1%</td>\n",
       "      <td>Rx</td>\n",
       "      <td>C</td>\n",
       "      <td>4</td>\n",
       "      <td>X</td>\n",
       "      <td>NaN</td>\n",
       "      <td>Weight Loss (Obesity/Overweight) More than hal...</td>\n",
       "      <td>NaN</td>\n",
       "      <td>NaN</td>\n",
       "      <td>https://www.drugs.com/mtm/fenfluramine.html</td>\n",
       "      <td>https://www.drugs.com/condition/obesity.html</td>\n",
       "    </tr>\n",
       "    <tr>\n",
       "      <th>2928</th>\n",
       "      <td>Fendique ER</td>\n",
       "      <td>Weight Loss</td>\n",
       "      <td>NaN</td>\n",
       "      <td>phendimetrazine tartrate</td>\n",
       "      <td>Anorexiants, CNS stimulants</td>\n",
       "      <td>NaN</td>\n",
       "      <td>0%</td>\n",
       "      <td>Rx</td>\n",
       "      <td>C</td>\n",
       "      <td>3</td>\n",
       "      <td>X</td>\n",
       "      <td>phentermine: https://www.drugs.com/phentermine...</td>\n",
       "      <td>Weight Loss (Obesity/Overweight) More than hal...</td>\n",
       "      <td>NaN</td>\n",
       "      <td>NaN</td>\n",
       "      <td>https://www.drugs.com/pro/fendique-er.html</td>\n",
       "      <td>https://www.drugs.com/condition/obesity.html</td>\n",
       "    </tr>\n",
       "    <tr>\n",
       "      <th>2929</th>\n",
       "      <td>Imcivree</td>\n",
       "      <td>Weight Loss</td>\n",
       "      <td>Imcivree may cause serious side effects, inclu...</td>\n",
       "      <td>setmelanotide</td>\n",
       "      <td>Melanocortin receptor agonists</td>\n",
       "      <td>NaN</td>\n",
       "      <td>0%</td>\n",
       "      <td>Rx</td>\n",
       "      <td>NaN</td>\n",
       "      <td>N</td>\n",
       "      <td>NaN</td>\n",
       "      <td>phentermine: https://www.drugs.com/phentermine...</td>\n",
       "      <td>Weight Loss (Obesity/Overweight) More than hal...</td>\n",
       "      <td>NaN</td>\n",
       "      <td>NaN</td>\n",
       "      <td>https://www.drugs.com/imcivree.html</td>\n",
       "      <td>https://www.drugs.com/condition/obesity.html</td>\n",
       "    </tr>\n",
       "    <tr>\n",
       "      <th>2930</th>\n",
       "      <td>setmelanotide</td>\n",
       "      <td>Weight Loss</td>\n",
       "      <td>hives ; difficult breathing; swelling of your ...</td>\n",
       "      <td>setmelanotide</td>\n",
       "      <td>Melanocortin receptor agonists</td>\n",
       "      <td>Imcivree</td>\n",
       "      <td>0%</td>\n",
       "      <td>Rx</td>\n",
       "      <td>NaN</td>\n",
       "      <td>N</td>\n",
       "      <td>NaN</td>\n",
       "      <td>phentermine: https://www.drugs.com/phentermine...</td>\n",
       "      <td>Weight Loss (Obesity/Overweight) More than hal...</td>\n",
       "      <td>NaN</td>\n",
       "      <td>NaN</td>\n",
       "      <td>https://www.drugs.com/mtm/setmelanotide.html</td>\n",
       "      <td>https://www.drugs.com/condition/obesity.html</td>\n",
       "    </tr>\n",
       "  </tbody>\n",
       "</table>\n",
       "<p>2931 rows × 17 columns</p>\n",
       "</div>"
      ],
      "text/plain": [
       "           drug_name medical_condition  \\\n",
       "0        doxycycline              Acne   \n",
       "1     spironolactone              Acne   \n",
       "2        minocycline              Acne   \n",
       "3           Accutane              Acne   \n",
       "4        clindamycin              Acne   \n",
       "...              ...               ...   \n",
       "2926   benzphetamine       Weight Loss   \n",
       "2927    fenfluramine       Weight Loss   \n",
       "2928     Fendique ER       Weight Loss   \n",
       "2929        Imcivree       Weight Loss   \n",
       "2930   setmelanotide       Weight Loss   \n",
       "\n",
       "                                           side_effects  \\\n",
       "0     (hives, difficult breathing, swelling in your ...   \n",
       "1     hives ; difficulty breathing; swelling of your...   \n",
       "2     skin rash, fever, swollen glands, flu-like sym...   \n",
       "3     problems with your vision or hearing; muscle o...   \n",
       "4     hives ; difficult breathing; swelling of your ...   \n",
       "...                                                 ...   \n",
       "2926  hives ; difficulty breathing; swelling of your...   \n",
       "2927  hives ; difficult breathing; swelling of your ...   \n",
       "2928                                                NaN   \n",
       "2929  Imcivree may cause serious side effects, inclu...   \n",
       "2930  hives ; difficult breathing; swelling of your ...   \n",
       "\n",
       "                  generic_name  \\\n",
       "0                  doxycycline   \n",
       "1               spironolactone   \n",
       "2                  minocycline   \n",
       "3          isotretinoin (oral)   \n",
       "4          clindamycin topical   \n",
       "...                        ...   \n",
       "2926             benzphetamine   \n",
       "2927              fenfluramine   \n",
       "2928  phendimetrazine tartrate   \n",
       "2929             setmelanotide   \n",
       "2930             setmelanotide   \n",
       "\n",
       "                                           drug_classes  \\\n",
       "0            Miscellaneous antimalarials, Tetracyclines   \n",
       "1     Aldosterone receptor antagonists, Potassium-sp...   \n",
       "2                                         Tetracyclines   \n",
       "3     Miscellaneous antineoplastics, Miscellaneous u...   \n",
       "4          Topical acne agents, Vaginal anti-infectives   \n",
       "...                                                 ...   \n",
       "2926                        Anorexiants, CNS stimulants   \n",
       "2927  Anorexiants, CNS stimulants, Miscellaneous ant...   \n",
       "2928                        Anorexiants, CNS stimulants   \n",
       "2929                     Melanocortin receptor agonists   \n",
       "2930                     Melanocortin receptor agonists   \n",
       "\n",
       "                                            brand_names activity rx_otc  \\\n",
       "0     Acticlate, Adoxa CK, Adoxa Pak, Adoxa TT, Alod...      87%     Rx   \n",
       "1                                   Aldactone, CaroSpir      82%     Rx   \n",
       "2     Dynacin, Minocin, Minolira, Solodyn, Ximino, V...      48%     Rx   \n",
       "3                                                   NaN      41%     Rx   \n",
       "4     Cleocin T, Clindacin ETZ, Clindacin P, Clindag...      39%     Rx   \n",
       "...                                                 ...      ...    ...   \n",
       "2926                                    Didrex, Regimex       2%     Rx   \n",
       "2927                                           Fintepla       1%     Rx   \n",
       "2928                                                NaN       0%     Rx   \n",
       "2929                                                NaN       0%     Rx   \n",
       "2930                                           Imcivree       0%     Rx   \n",
       "\n",
       "     pregnancy_category csa alcohol  \\\n",
       "0                     D   N       X   \n",
       "1                     C   N       X   \n",
       "2                     D   N     NaN   \n",
       "3                     X   N       X   \n",
       "4                     B   N     NaN   \n",
       "...                 ...  ..     ...   \n",
       "2926                  X   3       X   \n",
       "2927                  C   4       X   \n",
       "2928                  C   3       X   \n",
       "2929                NaN   N     NaN   \n",
       "2930                NaN   N     NaN   \n",
       "\n",
       "                                          related_drugs  \\\n",
       "0     amoxicillin: https://www.drugs.com/amoxicillin...   \n",
       "1     amlodipine: https://www.drugs.com/amlodipine.h...   \n",
       "2     amoxicillin: https://www.drugs.com/amoxicillin...   \n",
       "3     doxycycline: https://www.drugs.com/doxycycline...   \n",
       "4     doxycycline: https://www.drugs.com/doxycycline...   \n",
       "...                                                 ...   \n",
       "2926  phentermine: https://www.drugs.com/phentermine...   \n",
       "2927                                                NaN   \n",
       "2928  phentermine: https://www.drugs.com/phentermine...   \n",
       "2929  phentermine: https://www.drugs.com/phentermine...   \n",
       "2930  phentermine: https://www.drugs.com/phentermine...   \n",
       "\n",
       "                          medical_condition_description  rating  \\\n",
       "0     Acne Other names: Acne Vulgaris; Blackheads; B...     6.8   \n",
       "1     Acne Other names: Acne Vulgaris; Blackheads; B...     7.2   \n",
       "2     Acne Other names: Acne Vulgaris; Blackheads; B...     5.7   \n",
       "3     Acne Other names: Acne Vulgaris; Blackheads; B...     7.9   \n",
       "4     Acne Other names: Acne Vulgaris; Blackheads; B...     7.4   \n",
       "...                                                 ...     ...   \n",
       "2926  Weight Loss (Obesity/Overweight) More than hal...     7.5   \n",
       "2927  Weight Loss (Obesity/Overweight) More than hal...     NaN   \n",
       "2928  Weight Loss (Obesity/Overweight) More than hal...     NaN   \n",
       "2929  Weight Loss (Obesity/Overweight) More than hal...     NaN   \n",
       "2930  Weight Loss (Obesity/Overweight) More than hal...     NaN   \n",
       "\n",
       "      no_of_reviews                                          drug_link  \\\n",
       "0             760.0             https://www.drugs.com/doxycycline.html   \n",
       "1             449.0          https://www.drugs.com/spironolactone.html   \n",
       "2             482.0             https://www.drugs.com/minocycline.html   \n",
       "3             623.0                https://www.drugs.com/accutane.html   \n",
       "4             146.0  https://www.drugs.com/mtm/clindamycin-topical....   \n",
       "...             ...                                                ...   \n",
       "2926           17.0       https://www.drugs.com/mtm/benzphetamine.html   \n",
       "2927            NaN        https://www.drugs.com/mtm/fenfluramine.html   \n",
       "2928            NaN         https://www.drugs.com/pro/fendique-er.html   \n",
       "2929            NaN                https://www.drugs.com/imcivree.html   \n",
       "2930            NaN       https://www.drugs.com/mtm/setmelanotide.html   \n",
       "\n",
       "                             medical_condition_url  \n",
       "0        https://www.drugs.com/condition/acne.html  \n",
       "1        https://www.drugs.com/condition/acne.html  \n",
       "2        https://www.drugs.com/condition/acne.html  \n",
       "3        https://www.drugs.com/condition/acne.html  \n",
       "4        https://www.drugs.com/condition/acne.html  \n",
       "...                                            ...  \n",
       "2926  https://www.drugs.com/condition/obesity.html  \n",
       "2927  https://www.drugs.com/condition/obesity.html  \n",
       "2928  https://www.drugs.com/condition/obesity.html  \n",
       "2929  https://www.drugs.com/condition/obesity.html  \n",
       "2930  https://www.drugs.com/condition/obesity.html  \n",
       "\n",
       "[2931 rows x 17 columns]"
      ]
     },
     "execution_count": 22,
     "metadata": {},
     "output_type": "execute_result"
    }
   ],
   "source": [
    "data"
   ]
  },
  {
   "cell_type": "code",
   "execution_count": 23,
   "id": "cc3b86f0-48e2-4b1a-9700-bde1004669d0",
   "metadata": {},
   "outputs": [
    {
     "data": {
      "text/plain": [
       "(2931, 17)"
      ]
     },
     "execution_count": 23,
     "metadata": {},
     "output_type": "execute_result"
    }
   ],
   "source": [
    "data.shape\n"
   ]
  },
  {
   "cell_type": "code",
   "execution_count": 24,
   "id": "f351b9c9-bc4b-49a1-a1d2-9159c2b370ca",
   "metadata": {},
   "outputs": [
    {
     "data": {
      "text/plain": [
       "Index(['drug_name', 'medical_condition', 'side_effects', 'generic_name',\n",
       "       'drug_classes', 'brand_names', 'activity', 'rx_otc',\n",
       "       'pregnancy_category', 'csa', 'alcohol', 'related_drugs',\n",
       "       'medical_condition_description', 'rating', 'no_of_reviews', 'drug_link',\n",
       "       'medical_condition_url'],\n",
       "      dtype='object')"
      ]
     },
     "execution_count": 24,
     "metadata": {},
     "output_type": "execute_result"
    }
   ],
   "source": [
    "data.columns"
   ]
  },
  {
   "cell_type": "code",
   "execution_count": 25,
   "id": "89c968ee-0f3e-40db-b270-e021ab29c390",
   "metadata": {},
   "outputs": [
    {
     "name": "stdout",
     "output_type": "stream",
     "text": [
      "<class 'pandas.core.frame.DataFrame'>\n",
      "RangeIndex: 2931 entries, 0 to 2930\n",
      "Data columns (total 17 columns):\n",
      " #   Column                         Non-Null Count  Dtype  \n",
      "---  ------                         --------------  -----  \n",
      " 0   drug_name                      2931 non-null   object \n",
      " 1   medical_condition              2931 non-null   object \n",
      " 2   side_effects                   2807 non-null   object \n",
      " 3   generic_name                   2888 non-null   object \n",
      " 4   drug_classes                   2849 non-null   object \n",
      " 5   brand_names                    1718 non-null   object \n",
      " 6   activity                       2931 non-null   object \n",
      " 7   rx_otc                         2930 non-null   object \n",
      " 8   pregnancy_category             2702 non-null   object \n",
      " 9   csa                            2931 non-null   object \n",
      " 10  alcohol                        1377 non-null   object \n",
      " 11  related_drugs                  1462 non-null   object \n",
      " 12  medical_condition_description  2931 non-null   object \n",
      " 13  rating                         1586 non-null   float64\n",
      " 14  no_of_reviews                  1586 non-null   float64\n",
      " 15  drug_link                      2931 non-null   object \n",
      " 16  medical_condition_url          2931 non-null   object \n",
      "dtypes: float64(2), object(15)\n",
      "memory usage: 389.4+ KB\n"
     ]
    }
   ],
   "source": [
    "data.info()"
   ]
  },
  {
   "cell_type": "code",
   "execution_count": 26,
   "id": "8861193a-6a7e-4285-a241-bab6c7e33b14",
   "metadata": {},
   "outputs": [
    {
     "data": {
      "text/plain": [
       "0       False\n",
       "1       False\n",
       "2       False\n",
       "3       False\n",
       "4       False\n",
       "        ...  \n",
       "2926    False\n",
       "2927    False\n",
       "2928    False\n",
       "2929    False\n",
       "2930    False\n",
       "Length: 2931, dtype: bool"
      ]
     },
     "execution_count": 26,
     "metadata": {},
     "output_type": "execute_result"
    }
   ],
   "source": [
    "data.duplicated()"
   ]
  },
  {
   "cell_type": "code",
   "execution_count": 27,
   "id": "1a22dd2f-1c74-4cff-b9d6-f0f4e5461c96",
   "metadata": {},
   "outputs": [
    {
     "name": "stdout",
     "output_type": "stream",
     "text": [
      "Missing Values are :drug_name                           0\n",
      "medical_condition                   0\n",
      "side_effects                      124\n",
      "generic_name                       43\n",
      "drug_classes                       82\n",
      "brand_names                      1213\n",
      "activity                            0\n",
      "rx_otc                              1\n",
      "pregnancy_category                229\n",
      "csa                                 0\n",
      "alcohol                          1554\n",
      "related_drugs                    1469\n",
      "medical_condition_description       0\n",
      "rating                           1345\n",
      "no_of_reviews                    1345\n",
      "drug_link                           0\n",
      "medical_condition_url               0\n",
      "dtype: int64\n"
     ]
    }
   ],
   "source": [
    "print('Missing Values are :{}'.format(data.isnull().sum()))"
   ]
  },
  {
   "cell_type": "code",
   "execution_count": 28,
   "id": "ac6848d4-e74c-46e8-967b-77b766188da9",
   "metadata": {},
   "outputs": [
    {
     "data": {
      "text/html": [
       "<div>\n",
       "<style scoped>\n",
       "    .dataframe tbody tr th:only-of-type {\n",
       "        vertical-align: middle;\n",
       "    }\n",
       "\n",
       "    .dataframe tbody tr th {\n",
       "        vertical-align: top;\n",
       "    }\n",
       "\n",
       "    .dataframe thead th {\n",
       "        text-align: right;\n",
       "    }\n",
       "</style>\n",
       "<table border=\"1\" class=\"dataframe\">\n",
       "  <thead>\n",
       "    <tr style=\"text-align: right;\">\n",
       "      <th></th>\n",
       "      <th>rating</th>\n",
       "      <th>no_of_reviews</th>\n",
       "    </tr>\n",
       "  </thead>\n",
       "  <tbody>\n",
       "    <tr>\n",
       "      <th>count</th>\n",
       "      <td>1586.000000</td>\n",
       "      <td>1586.000000</td>\n",
       "    </tr>\n",
       "    <tr>\n",
       "      <th>mean</th>\n",
       "      <td>6.812926</td>\n",
       "      <td>75.064943</td>\n",
       "    </tr>\n",
       "    <tr>\n",
       "      <th>std</th>\n",
       "      <td>2.313044</td>\n",
       "      <td>184.900847</td>\n",
       "    </tr>\n",
       "    <tr>\n",
       "      <th>min</th>\n",
       "      <td>0.000000</td>\n",
       "      <td>1.000000</td>\n",
       "    </tr>\n",
       "    <tr>\n",
       "      <th>25%</th>\n",
       "      <td>5.600000</td>\n",
       "      <td>2.000000</td>\n",
       "    </tr>\n",
       "    <tr>\n",
       "      <th>50%</th>\n",
       "      <td>7.000000</td>\n",
       "      <td>12.000000</td>\n",
       "    </tr>\n",
       "    <tr>\n",
       "      <th>75%</th>\n",
       "      <td>8.500000</td>\n",
       "      <td>58.000000</td>\n",
       "    </tr>\n",
       "    <tr>\n",
       "      <th>max</th>\n",
       "      <td>10.000000</td>\n",
       "      <td>2934.000000</td>\n",
       "    </tr>\n",
       "  </tbody>\n",
       "</table>\n",
       "</div>"
      ],
      "text/plain": [
       "            rating  no_of_reviews\n",
       "count  1586.000000    1586.000000\n",
       "mean      6.812926      75.064943\n",
       "std       2.313044     184.900847\n",
       "min       0.000000       1.000000\n",
       "25%       5.600000       2.000000\n",
       "50%       7.000000      12.000000\n",
       "75%       8.500000      58.000000\n",
       "max      10.000000    2934.000000"
      ]
     },
     "execution_count": 28,
     "metadata": {},
     "output_type": "execute_result"
    }
   ],
   "source": [
    "data.describe()"
   ]
  },
  {
   "cell_type": "code",
   "execution_count": 29,
   "id": "992c55b1-87ac-47db-a044-2a3d69934345",
   "metadata": {},
   "outputs": [
    {
     "data": {
      "text/plain": [
       "np.int64(0)"
      ]
     },
     "execution_count": 29,
     "metadata": {},
     "output_type": "execute_result"
    }
   ],
   "source": [
    "B = data.where(data['csa'].isnull())['drug_name'].count()\n",
    "B"
   ]
  },
  {
   "cell_type": "code",
   "execution_count": 30,
   "id": "e1d9001c-568f-489c-9e67-8ea13db75d18",
   "metadata": {},
   "outputs": [],
   "source": [
    "dataclean = data['drug_name'].dropna()"
   ]
  },
  {
   "cell_type": "code",
   "execution_count": 31,
   "id": "c693de33-b717-4d95-8041-be48a2b4b729",
   "metadata": {},
   "outputs": [
    {
     "data": {
      "text/plain": [
       "0          doxycycline\n",
       "1       spironolactone\n",
       "2          minocycline\n",
       "3             Accutane\n",
       "4          clindamycin\n",
       "             ...      \n",
       "2926     benzphetamine\n",
       "2927      fenfluramine\n",
       "2928       Fendique ER\n",
       "2929          Imcivree\n",
       "2930     setmelanotide\n",
       "Name: drug_name, Length: 2931, dtype: object"
      ]
     },
     "execution_count": 31,
     "metadata": {},
     "output_type": "execute_result"
    }
   ],
   "source": [
    "dataclean"
   ]
  },
  {
   "cell_type": "code",
   "execution_count": 32,
   "id": "09e8d1c0-6704-402a-b80f-3df4ab9a688f",
   "metadata": {},
   "outputs": [
    {
     "data": {
      "text/plain": [
       "(csa\n",
       " 2     101\n",
       " 3      26\n",
       " 4      71\n",
       " 5      20\n",
       " M      16\n",
       " N    2688\n",
       " U       9\n",
       " Name: drug_name, dtype: int64,\n",
       " np.int64(2931))"
      ]
     },
     "execution_count": 32,
     "metadata": {},
     "output_type": "execute_result"
    }
   ],
   "source": [
    "data.groupby('csa')['drug_name'].count(),data.groupby('csa')['drug_name'].count().sum()"
   ]
  },
  {
   "cell_type": "code",
   "execution_count": null,
   "id": "8a9ff3d9-ef6c-40fb-b26b-ca076c5636ae",
   "metadata": {},
   "outputs": [],
   "source": []
  },
  {
   "cell_type": "code",
   "execution_count": 33,
   "id": "44f4723e-d5aa-49a7-b1a4-db3de7be9fcc",
   "metadata": {},
   "outputs": [
    {
     "data": {
      "text/plain": [
       "side_effects\n",
       "( hives , difficult breathing, swelling in your face or throat) or a severe skin reaction ( fever , sore throat , burning in your eyes, skin pain, red or purple skin rash that spreads and causes blistering and peeling). Call your doctor at once if you have: severe stomach pain, diarrhea that is watery or bloody; fast or pounding heartbeats, fluttering in your chest, shortness of breath, and sudden dizziness (like you might pass out); confusion, spinning sensation; liver problems - loss of appetite, upper stomach pain, tiredness, dark urine, clay-colored stools, jaundice (yellowing of the skin or eyes); or kidney problems - little or no urination, swelling in your feet or ankles, feeling tired or short of breath. If you've ever had heart problems, clarithromycin may cause a heart attack or stroke years after you've taken this medicine. Seek medical attention right away if you have chest pain spreading to your jaw or shoulder, trouble breathing, slurred speech, or sudden numbness or weakness on one side of your body. Older adults may be more likely to have heart rhythm side effects, including a life-threatening fast heart rate . Common Biaxin XL side effects may include: stomach pain, nausea, vomiting; diarrhea; or unusual or unpleasant taste in your mouth.                                                                                                                                                                                                                                                                                                                                                                                                                                                                                                                                                                                                                        1\n",
       "( hives , difficult breathing, swelling in your face or throat) or a severe skin reaction ( fever , sore throat , burning in your eyes, skin pain, red or purple skin rash that spreads and causes blistering and peeling). Call your doctor at once if you have: severe stomach pain, diarrhea that is watery or bloody; fast or pounding heartbeats, fluttering in your chest, shortness of breath, and sudden dizziness (like you might pass out); confusion, spinning sensation; liver problems - loss of appetite, upper stomach pain, tiredness, dark urine, clay-colored stools, jaundice (yellowing of the skin or eyes); or kidney problems - little or no urination, swelling in your feet or ankles, feeling tired or short of breath. If you've ever had heart problems, clarithromycin may cause a heart attack or stroke years after you've taken this medicine. Seek medical attention right away if you have chest pain spreading to your jaw or shoulder, trouble breathing, slurred speech, or sudden numbness or weakness on one side of your body. Older adults may be more likely to have heart rhythm side effects, including a life-threatening fast heart rate . Common clarithromycin side effects may include: stomach pain, nausea, vomiting; diarrhea; or unusual or unpleasant taste in your mouth.                                                                                                                                                                                                                                                                                                                                                                                                                                                                                                                                                                                                                   1\n",
       "( hives , difficult breathing, swelling in your face or throat) or a severe skin reaction (fever, sore throat , burning eyes, skin pain, red or purple skin rash with blistering and peeling). Call your doctor at once if you have: a seizure; hallucinations, trouble concentrating, trouble speaking or moving (these symptoms may occur months or years after you start taking efavirenz); nervous system problems - dizziness, drowsiness, confusion, trouble concentrating, strange dreams, insomnia, or problems with speech, balance, or muscle movement; serious psychiatric symptoms - anxiety, paranoia, unusual behavior, feeling sad or hopeless, hallucinations, suicidal thoughts; or liver problems - nausea, stomach pain, loss of appetite, dark urine, clay-colored stools, jaundice (yellowing of the skin or eyes); Sustiva may cause serious psychiatric symptoms including confusion, feeling sad or hopeless, suicidal thoughts, anxiety , paranoia, hallucinations, trouble speaking or moving, or unusual behavior. Contact your doctor at once if you have any of these side effects, even if you have had them before. Efavirenz affects your immune system, which may cause certain side effects (even weeks or months after you've taken this medicine). Tell your doctor if you have: signs of a new infection - fever, night sweats , swollen glands, cold sores , cough, wheezing, diarrhea , weight loss ; trouble speaking or swallowing, problems with balance or eye movement, weakness or prickly feeling; or swelling in your neck or throat (enlarged thyroid), menstrual changes, impotence . Common Sustiva side effects may include: nausea, vomiting ; dizziness , drowsiness, trouble concentrating; rash; headache , tired feeling; sleep problems ( insomnia ), strange dreams; or changes in the shape or location of body fat (especially in your arms, legs, face, neck, breasts, and waist).    1\n",
       "( hives , difficult breathing, swelling in your face or throat) or a severe skin reaction (fever, sore throat , burning eyes, skin pain, red or purple skin rash with blistering and peeling). Stop taking this medicine and call your doctor right away if you have symptoms of pancreatitis : severe pain in your upper stomach spreading to your back, nausea and vomiting , loss of appetite, or fast heartbeats. Mild symptoms of lactic acidosis may worsen over time , and this condition can be fatal. Get emergency medical help if you have: unusual muscle pain, trouble breathing, stomach pain, vomiting, fast/slow or irregular heartbeats, dizziness, feeling cold, or feeling very weak or tired. Call your doctor at once if you have: a severe autoimmune reaction - itching, blisters, breakdown of the outer layer of skin; severe or ongoing pain in your joints; or symptoms of heart failure - shortness of breath (even while lying down), swelling in your legs or feet, rapid weight gain. Common Jentadueto side effects include: sore throat; sinus pain, stuffy nose; or diarrhea .                                                                                                                                                                                                                                                                                                                                                                                                                                                                                                                                                                                                                                                                                                                                                                                                                                   1\n",
       "( hives , difficult breathing, swelling in your face or throat) or a severe skin reaction (fever, sore throat , burning in your eyes, skin pain, red or purple skin rash that spreads and causes blistering and peeling). Methotrexate can cause serious or fatal side effects. Call your doctor at once if you have: sudden chest pain, wheezing, dry cough, cough with mucus, chest pain, feeling short of breath; fever, chills, swollen lymph glands, night sweats , weight loss ; blisters or ulcers in your mouth, red or swollen gums, trouble swallowing; vomiting, diarrhea, blood in your urine or stools; skin changes such as redness, warmth, swelling, or oozing; low blood cell counts - fever, chills, tiredness, mouth sores, skin sores, easy bruising, unusual bleeding, pale skin, cold hands and feet, feeling light-headed or short of breath; kidney problems - little or no urination, swelling in your feet or ankles; liver problems - swelling around your midsection, right-sided upper stomach pain, nausea , loss of appetite, dark urine, jaundice (yellowing of the skin or eyes); nerve problems - confusion, weakness, drowsiness, coordination problems, feeling irritable, headache , neck stiffness, vision problems, loss of movement in any part of your body, seizure; or signs of tumor cell breakdown - tiredness, weakness, muscle cramps, nausea, vomiting, diarrhea, fast or slow heart rate , tingling in your hands and feet or around your mouth. Common methotrexate side effects may include: fever, chills, tiredness, not feeling well; low blood cell counts; mouth sores; nausea, stomach pain; abnormal liver function tests ; hair loss ; burning skin lesions; or being more sensitive to light.                                                                                                                                                                                          1\n",
       "                                                                                                                                                                                                                                                                                                                                                                                                                                                                                                                                                                                                                                                                                                                                                                                                                                                                                                                                                                                                                                                                                                                                                                                                                                                                                                                                                                                                                                                                                                                                                                                                                                                                                                                                                                                                                                                                                                                                                  ..\n",
       "urinating less than usual or not at all; muscle spasms, numb or tingly feeling (especially around your mouth); fever, chills, body aches, flu symptoms; pale skin, easy bruising, unusual weakness; or severe joint, bone, or muscle pain. Less serious Aclasta side effects may include: cough; loss of appetite, nausea, vomiting; diarrhea, constipation; headache, dizziness, tired feeling; low blood pressure, swelling in your legs or feet; bone, joint or muscle pain; or redness or swelling where the needle was placed.                                                                                                                                                                                                                                                                                                                                                                                                                                                                                                                                                                                                                                                                                                                                                                                                                                                                                                                                                                                                                                                                                                                                                                                                                                                                                                                                                                                                                1\n",
       "vision problems, changes in color vision; severe stomach pain, diarrhea that is watery or bloody; a seizure; sweating, feeling anxious or shaky (may be signs of low blood sugar ); high levels of serotonin in the body - agitation , hallucinations, fever, sweating, shivering, fast heart rate , muscle stiffness, twitching, loss of coordination, nausea, vomiting , diarrhea; lactic acidosis - unusual muscle pain , trouble breathing, stomach pain, vomiting, irregular heart rate, dizziness , feeling cold, or feeling very weak or tired; or low blood cell counts - fever, chills, tiredness, weakness, confusion, mouth sores, skin sores, easy bruising, unusual bleeding, pale skin, cold hands and feet, feeling light-headed or short of breath. Seek medical attention right away if you have symptoms of serotonin syndrome, such as: agitation, hallucinations, fever, sweating, shivering, fast heart rate, muscle stiffness, twitching, loss of coordination, nausea, vomiting, or diarrhea. Common Zyvox side effects may include: nausea, vomiting, diarrhea; skin rash; anemia (low red blood cells); or headache , dizziness.                                                                                                                                                                                                                                                                                                                                                                                                                                                                                                                                                                                                                                                                                                                                                                                          1\n",
       "vision problems, changes in color vision; severe stomach pain, diarrhea that is watery or bloody; a seizure; sweating, feeling anxious or shaky (may be signs of low blood sugar ); lactic acidosis --unusual muscle pain, trouble breathing, stomach pain, vomiting, irregular heart rate, dizziness , feeling cold, or feeling very weak or tired; or low blood cell counts--fever, chills, tiredness, weakness, confusion, mouth sores, skin sores, easy bruising, unusual bleeding, pale skin, cold hands and feet, feeling light-headed or short of breath. Seek medical attention right away if you have symptoms of serotonin syndrome, such as: agitation , hallucinations, fever, sweating, shivering, fast heart rate , muscle stiffness, twitching, loss of coordination, nausea , vomiting, or diarrhea. Common side effects of linezolid may include: nausea, vomiting, diarrhea; rash; anemia (low red blood cells); or headache , dizziness.                                                                                                                                                                                                                                                                                                                                                                                                                                                                                                                                                                                                                                                                                                                                                                                                                                                                                                                                                                                        1\n",
       "worsening chest pain; pounding heartbeats or fluttering in your chest; a light-headed feeling, like you might pass out; swelling in your hands or lower legs; or upper stomach pain, jaundice (yellowing of the skin or eyes). You may have more severe or more frequent episodes of angina when you first start taking Adalat CC or whenever your dose is changed. Common Adalat CC side effects may include: swelling; flushing (warmth, redness, or tingly feeling); headache , dizziness; nausea , heartburn ; or feeling weak or tired.                                                                                                                                                                                                                                                                                                                                                                                                                                                                                                                                                                                                                                                                                                                                                                                                                                                                                                                                                                                                                                                                                                                                                                                                                                                                                                                                                                                                       1\n",
       "worsening chest pain; pounding heartbeats or fluttering in your chest; a light-headed feeling, like you might pass out; swelling in your hands or lower legs; or upper stomach pain, jaundice (yellowing of the skin or eyes). You may have more severe or more frequent episodes of angina when you first start taking Procardia XL or whenever your dose is changed. Common side effects of Procardia XL may include: swelling; flushing (warmth, redness, or tingly feeling); headache , dizziness; nausea , heartburn ; or feeling weak or tired.                                                                                                                                                                                                                                                                                                                                                                                                                                                                                                                                                                                                                                                                                                                                                                                                                                                                                                                                                                                                                                                                                                                                                                                                                                                                                                                                                                                              1\n",
       "Name: drug_name, Length: 2759, dtype: int64"
      ]
     },
     "execution_count": 33,
     "metadata": {},
     "output_type": "execute_result"
    }
   ],
   "source": [
    "data.groupby('side_effects')['drug_name'].count()"
   ]
  },
  {
   "cell_type": "code",
   "execution_count": null,
   "id": "fe1e90fb-a6f8-448b-bc01-65fe43424532",
   "metadata": {},
   "outputs": [],
   "source": []
  },
  {
   "cell_type": "code",
   "execution_count": 34,
   "id": "81d36666-c062-4901-b8ca-8e7d9c4e6c81",
   "metadata": {},
   "outputs": [
    {
     "data": {
      "text/plain": [
       "np.int64(2702)"
      ]
     },
     "execution_count": 34,
     "metadata": {},
     "output_type": "execute_result"
    }
   ],
   "source": [
    "data.groupby('pregnancy_category')['drug_name'].count().sum()"
   ]
  },
  {
   "cell_type": "code",
   "execution_count": 35,
   "id": "92d639e7-8e18-4894-b7c8-a68b18d08bf6",
   "metadata": {},
   "outputs": [
    {
     "name": "stdout",
     "output_type": "stream",
     "text": [
      "medical_condition  drug_name     \n",
      "Acne               minocycline       2\n",
      "Eczema             fluocinolone      2\n",
      "Herpes             acyclovir         2\n",
      "ADHD               Adderall          1\n",
      "                   Adderall XR       1\n",
      "                   Adhansia XR       1\n",
      "                   Adzenys ER        1\n",
      "                   Adzenys XR-ODT    1\n",
      "                   Aptensio XR       1\n",
      "                   Azstarys          1\n",
      "Name: count, dtype: int64\n"
     ]
    }
   ],
   "source": [
    "top_drugs =data.groupby('medical_condition')['drug_name'].value_counts().nlargest(10)\n",
    "print(top_drugs)"
   ]
  },
  {
   "cell_type": "code",
   "execution_count": 36,
   "id": "c6c30b2f-fd9c-45bf-86ed-19694def0f4b",
   "metadata": {},
   "outputs": [
    {
     "data": {
      "image/png": "[encoded data removed]",
      "text/plain": [
       "<Figure size 1000x600 with 1 Axes>"
      ]
     },
     "metadata": {},
     "output_type": "display_data"
    }
   ],
   "source": [
    "plt.figure(figsize=(10, 6))\n",
    "sns.histplot(data['rating'], bins=10, kde=True)\n",
    "plt.title('Distribution of Drug Ratings')\n",
    "plt.xlabel('Rating')\n",
    "plt.ylabel('Frequency')\n",
    "plt.show()"
   ]
  },
  {
   "cell_type": "code",
   "execution_count": 37,
   "id": "f8ba8c78-83db-4dad-bf1a-39ac11e8744e",
   "metadata": {},
   "outputs": [
    {
     "data": {
      "text/plain": [
       "side_effects\n",
       "hives ; difficult breathing; swelling of your face, lips, tongue, or throat. This medicine may cause serious side effects. Stop using this medicine and call your doctor at once if you have: redness or swelling of the treated area; increased pain; or severe burning or skin irritation such as a rash, itching, pain, or blistering. Less serious side effects may be more likely, and you may have none at all.                                                                                                                                                                                           10\n",
       "hives ; difficult breathing; swelling of your face, lips, tongue, or throat. This medicine may cause serious side effects. Stop using this medicine and call your doctor at once if you have: bone pain, muscle weakness; confusion, changes in your mental state, seizure (convulsions); or pale skin, feeling light-headed or short of breath, rapid heart rate. Less serious side effects may be more likely, and you may have none at all.                                                                                                                                                                   8\n",
       "redness, warmth, swelling, itching, stinging, burning, or irritation of treated skin.                                                                                                                                                                                                                                                                                                                                                                                                                                                                                                                            7\n",
       "hives ; difficult breathing; swelling of your face, lips, tongue, or throat. Less serious side effects may include: stinging; rash; or skin irritation.                                                                                                                                                                                                                                                                                                                                                                                                                                                          5\n",
       "hives ; difficulty breathing; swelling of your face, lips, tongue, or throat. This medicine may cause serious side effects. Stop using this medicine and call your doctor at once if you have: nervousness , dizziness , or sleeplessness ; chest pain, fast or uneven heart rate; little or no urinating; dangerously high blood pressure (severe headache , buzzing in your ears, anxiety , shortness of breath); if your symptoms do not improve after 7 days of treatment, or if you have a fever; or if new symptoms occur. Less serious side effects may be more likely, and you may have none at all.     5\n",
       "hives ; difficult breathing; swelling of your face, lips, tongue, or throat. Common side effects may include temporary hair loss (especially in children).                                                                                                                                                                                                                                                                                                                                                                                                                                                       5\n",
       "hives ; difficulty breathing; swelling of your face, lips, tongue, or throat. Less serious side effects may occur, and you may have none at all.                                                                                                                                                                                                                                                                                                                                                                                                                                                                 3\n",
       "hives ; difficult breathing; swelling of your face, lips, tongue, or throat. Less serious side effects may be more likely, and you may have none at all.                                                                                                                                                                                                                                                                                                                                                                                                                                                         3\n",
       "hives ; difficult breathing; swelling of your face, lips, tongue, or throat.                                                                                                                                                                                                                                                                                                                                                                                                                                                                                                                                     3\n",
       "hives ; difficulty breathing; swelling of your face, lips, tongue, or throat. Wash the skin and get medical attention right away if you have severe burning, pain, swelling, or blistering of the skin where you applied this medicine. This medicine may cause serious side effects. Stop using this medicine and call your doctor at once if you have: pale skin, blue-colored lips; headache , confusion; or rapid heartbeats. Common side effects may include a mild burning sensation that can last for several hours or days, especially after your first use of this medicine.                            3\n",
       "Name: count, dtype: int64"
      ]
     },
     "execution_count": 37,
     "metadata": {},
     "output_type": "execute_result"
    }
   ],
   "source": [
    "side_effects = data['side_effects'].value_counts().head(10)\n",
    "side_effects"
   ]
  },
  {
   "cell_type": "code",
   "execution_count": null,
   "id": "e92f9160-96d1-4d93-8a18-a9555eb1ea03",
   "metadata": {},
   "outputs": [],
   "source": []
  },
  {
   "cell_type": "code",
   "execution_count": 38,
   "id": "a46cd340-2813-4f00-96aa-47420be8cce7",
   "metadata": {},
   "outputs": [
    {
     "data": {
      "text/plain": [
       "(medical_condition\n",
       " ADHD                     55\n",
       " AIDS/HIV                109\n",
       " Acne                    238\n",
       " Allergies                14\n",
       " Alzheimer's              27\n",
       " Angina                   71\n",
       " Anxiety                  45\n",
       " Asthma                   45\n",
       " Bipolar Disorder         47\n",
       " Bronchitis               71\n",
       " COPD                     23\n",
       " Cancer                   20\n",
       " Cholesterol              45\n",
       " Colds & Flu             245\n",
       " Constipation             60\n",
       " Covid 19                 34\n",
       " Depression               51\n",
       " Diabetes (Type 1)        57\n",
       " Diabetes (Type 2)       104\n",
       " Diarrhea                 38\n",
       " Eczema                  122\n",
       " Erectile Dysfunction     13\n",
       " GERD (Heartburn)         77\n",
       " Gastrointestinal          7\n",
       " Gout                      9\n",
       " Hair Loss                11\n",
       " Hayfever                124\n",
       " Herpes                   10\n",
       " Hypertension            177\n",
       " Hypothyroidism           17\n",
       " IBD (Bowel)              22\n",
       " Incontinence             19\n",
       " Insomnia                 60\n",
       " Menopause                 7\n",
       " Migraine                 61\n",
       " Osteoarthritis          129\n",
       " Osteoporosis             56\n",
       " Pain                    264\n",
       " Pneumonia                72\n",
       " Psoriasis                93\n",
       " Rheumatoid Arthritis     33\n",
       " Schizophrenia            20\n",
       " Seizures                 50\n",
       " Stroke                    5\n",
       " Swine Flu                 5\n",
       " UTI                      46\n",
       " Weight Loss              23\n",
       " Name: drug_name, dtype: int64,\n",
       " np.int64(2931))"
      ]
     },
     "execution_count": 38,
     "metadata": {},
     "output_type": "execute_result"
    }
   ],
   "source": [
    " data.groupby('medical_condition')['drug_name'].count(),data.groupby('csa')['drug_name'].count().sum()"
   ]
  },
  {
   "cell_type": "code",
   "execution_count": 39,
   "id": "956d36f5-4214-4695-9606-cade8c33c281",
   "metadata": {},
   "outputs": [
    {
     "data": {
      "text/plain": [
       "medical_condition\n",
       "Pain                    138\n",
       "Acne                    116\n",
       "Eczema                  112\n",
       "Hayfever                 80\n",
       "Colds & Flu              80\n",
       "Hypertension             73\n",
       "Osteoarthritis           60\n",
       "Psoriasis                54\n",
       "Diabetes (Type 2)        52\n",
       "ADHD                     47\n",
       "Angina                   41\n",
       "Bronchitis               37\n",
       "Depression               32\n",
       "AIDS/HIV                 32\n",
       "Migraine                 30\n",
       "Osteoporosis             29\n",
       "Bipolar Disorder         28\n",
       "Asthma                   27\n",
       "Constipation             27\n",
       "UTI                      27\n",
       "Seizures                 26\n",
       "Diarrhea                 24\n",
       "GERD (Heartburn)         22\n",
       "Diabetes (Type 1)        19\n",
       "Insomnia                 18\n",
       "Alzheimer's              17\n",
       "COPD                     15\n",
       "Anxiety                  15\n",
       "Incontinence             14\n",
       "Rheumatoid Arthritis     12\n",
       "Cholesterol              11\n",
       "Schizophrenia            10\n",
       "Pneumonia                10\n",
       "Hair Loss                 8\n",
       "Gout                      8\n",
       "IBD (Bowel)               7\n",
       "Allergies                 6\n",
       "Swine Flu                 5\n",
       "Weight Loss               5\n",
       "Covid 19                  3\n",
       "Stroke                    3\n",
       "Erectile Dysfunction      2\n",
       "Name: drug_name, dtype: int64"
      ]
     },
     "execution_count": 39,
     "metadata": {},
     "output_type": "execute_result"
    }
   ],
   "source": [
    "c_data = data[data['pregnancy_category'] == \"C\"]\n",
    "c_data.groupby('medical_condition')['drug_name'].count().sort_values(ascending = False)"
   ]
  },
  {
   "cell_type": "code",
   "execution_count": 40,
   "id": "99e7e6ab-7e53-4a1e-8153-f8dc749327c0",
   "metadata": {},
   "outputs": [
    {
     "data": {
      "text/plain": [
       "(medical_condition\n",
       " ADHD                     55\n",
       " AIDS/HIV                109\n",
       " Acne                    238\n",
       " Allergies                14\n",
       " Alzheimer's              27\n",
       " Angina                   71\n",
       " Anxiety                  45\n",
       " Asthma                   45\n",
       " Bipolar Disorder         47\n",
       " Bronchitis               71\n",
       " COPD                     23\n",
       " Cancer                   20\n",
       " Cholesterol              45\n",
       " Colds & Flu             245\n",
       " Constipation             60\n",
       " Covid 19                 34\n",
       " Depression               51\n",
       " Diabetes (Type 1)        57\n",
       " Diabetes (Type 2)       104\n",
       " Diarrhea                 38\n",
       " Eczema                  122\n",
       " Erectile Dysfunction     13\n",
       " GERD (Heartburn)         77\n",
       " Gastrointestinal          7\n",
       " Gout                      9\n",
       " Hair Loss                11\n",
       " Hayfever                124\n",
       " Herpes                   10\n",
       " Hypertension            177\n",
       " Hypothyroidism           17\n",
       " IBD (Bowel)              22\n",
       " Incontinence             19\n",
       " Insomnia                 60\n",
       " Menopause                 7\n",
       " Migraine                 61\n",
       " Osteoarthritis          129\n",
       " Osteoporosis             56\n",
       " Pain                    264\n",
       " Pneumonia                72\n",
       " Psoriasis                93\n",
       " Rheumatoid Arthritis     33\n",
       " Schizophrenia            20\n",
       " Seizures                 50\n",
       " Stroke                    5\n",
       " Swine Flu                 5\n",
       " UTI                      46\n",
       " Weight Loss              23\n",
       " Name: drug_name, dtype: int64,\n",
       " np.int64(2931))"
      ]
     },
     "execution_count": 40,
     "metadata": {},
     "output_type": "execute_result"
    }
   ],
   "source": [
    "data.groupby('medical_condition')['drug_name'].count(),data.groupby('csa')['drug_name'].count().sum()"
   ]
  },
  {
   "cell_type": "code",
   "execution_count": null,
   "id": "4a240ac3-15f2-4a88-a3a7-df13a6b7c4e7",
   "metadata": {},
   "outputs": [],
   "source": []
  },
  {
   "cell_type": "code",
   "execution_count": 41,
   "id": "1a0b65c9-ed5a-47c5-8963-a1b15ddda4d5",
   "metadata": {},
   "outputs": [
    {
     "data": {
      "text/plain": [
       "np.int64(1171)"
      ]
     },
     "execution_count": 41,
     "metadata": {},
     "output_type": "execute_result"
    }
   ],
   "source": [
    "data.where(data['brand_names'].isnull())['generic_name'].count()"
   ]
  },
  {
   "cell_type": "code",
   "execution_count": 42,
   "id": "72b32b40-da60-4790-bb8d-39fbdaa7eb3f",
   "metadata": {},
   "outputs": [
    {
     "data": {
      "text/plain": [
       "np.int64(1717)"
      ]
     },
     "execution_count": 42,
     "metadata": {},
     "output_type": "execute_result"
    }
   ],
   "source": [
    "data.where(data['brand_names'].notna())['generic_name'].count()"
   ]
  },
  {
   "cell_type": "code",
   "execution_count": 43,
   "id": "117c202d-0596-43ca-8e55-ca518c5a4e4f",
   "metadata": {},
   "outputs": [
    {
     "data": {
      "text/plain": [
       "np.int64(1)"
      ]
     },
     "execution_count": 43,
     "metadata": {},
     "output_type": "execute_result"
    }
   ],
   "source": [
    "data.where(data['generic_name'].isnull())['brand_names'].count()"
   ]
  },
  {
   "cell_type": "code",
   "execution_count": 44,
   "id": "3e242b3b-e6ee-4f1f-9b5a-e3f003932b8a",
   "metadata": {},
   "outputs": [
    {
     "data": {
      "text/plain": [
       "np.int64(1717)"
      ]
     },
     "execution_count": 44,
     "metadata": {},
     "output_type": "execute_result"
    }
   ],
   "source": [
    "data.where(data['generic_name'].notnull())['brand_names'].count()"
   ]
  },
  {
   "cell_type": "code",
   "execution_count": 45,
   "id": "b2b63148-5fdb-4e57-9991-451ca3d79e9a",
   "metadata": {},
   "outputs": [
    {
     "data": {
      "text/plain": [
       "Index(['drug_name', 'medical_condition', 'side_effects', 'generic_name',\n",
       "       'drug_classes', 'brand_names', 'activity', 'rx_otc',\n",
       "       'pregnancy_category', 'csa', 'alcohol', 'related_drugs',\n",
       "       'medical_condition_description', 'rating', 'no_of_reviews', 'drug_link',\n",
       "       'medical_condition_url'],\n",
       "      dtype='object')"
      ]
     },
     "execution_count": 45,
     "metadata": {},
     "output_type": "execute_result"
    }
   ],
   "source": [
    "data.columns"
   ]
  },
  {
   "cell_type": "code",
   "execution_count": 46,
   "id": "66cef0bb-2689-4a7f-a40e-12abf73eeb43",
   "metadata": {},
   "outputs": [
    {
     "name": "stdout",
     "output_type": "stream",
     "text": [
      "There are 7405 missing values in this dataset\n"
     ]
    }
   ],
   "source": [
    "print(\"There are {} missing values in this dataset\".format(data.isnull().sum().sum()))"
   ]
  },
  {
   "cell_type": "code",
   "execution_count": 47,
   "id": "92e1a241-7b68-4f1f-919d-bf19ec56f492",
   "metadata": {},
   "outputs": [
    {
     "data": {
      "text/plain": [
       "0    87.0\n",
       "1    82.0\n",
       "2    48.0\n",
       "3    41.0\n",
       "4    39.0\n",
       "Name: activity, dtype: float64"
      ]
     },
     "execution_count": 47,
     "metadata": {},
     "output_type": "execute_result"
    }
   ],
   "source": [
    "data['activity'] =data['activity'].astype(str).str.replace(r'\\s+', '',regex=True).str.rstrip('%').astype('float')\n",
    "\n",
    "data['activity'].head(5)"
   ]
  },
  {
   "cell_type": "code",
   "execution_count": null,
   "id": "ad4ba9fc-6a10-4ff5-ae28-d647a894a301",
   "metadata": {},
   "outputs": [],
   "source": []
  },
  {
   "cell_type": "code",
   "execution_count": 48,
   "id": "f3f04ddb-6e45-4e2c-8cdc-ccd9a3356f6b",
   "metadata": {},
   "outputs": [
    {
     "name": "stdout",
     "output_type": "stream",
     "text": [
      "The dataset has 2931 rows and 17columns\n"
     ]
    }
   ],
   "source": [
    "print('The dataset has {} rows and {}columns'.format(data.shape[0], data.shape[1]))"
   ]
  },
  {
   "cell_type": "code",
   "execution_count": 49,
   "id": "84d8d594-cf90-42b1-a2f4-fed0fa06e20c",
   "metadata": {},
   "outputs": [],
   "source": [
    "data[\"side_effects\"] = data['side_effects'].fillna('Unknown')"
   ]
  },
  {
   "cell_type": "code",
   "execution_count": 50,
   "id": "5e998439-4994-4dae-ac17-b708c87c6248",
   "metadata": {},
   "outputs": [],
   "source": [
    "data[\"related_drugs\"] = data['related_drugs'].fillna('Unknown')"
   ]
  },
  {
   "cell_type": "code",
   "execution_count": 51,
   "id": "27309e20-5a99-4846-a11b-7cbab97e58ea",
   "metadata": {},
   "outputs": [],
   "source": [
    "data[\"rating\"] = data['rating'].fillna('0')\n"
   ]
  },
  {
   "cell_type": "code",
   "execution_count": 52,
   "id": "359a1f49-3c96-45e1-82d5-9abd3fb542fb",
   "metadata": {},
   "outputs": [],
   "source": [
    "data[\"no_of_reviews\"] = data['no_of_reviews'].fillna('0')"
   ]
  },
  {
   "cell_type": "code",
   "execution_count": 53,
   "id": "54228482-2b94-4b79-aa10-205b8535b630",
   "metadata": {},
   "outputs": [
    {
     "data": {
      "text/plain": [
       "array(['Rx', 'Rx/OTC', 'OTC', nan], dtype=object)"
      ]
     },
     "execution_count": 53,
     "metadata": {},
     "output_type": "execute_result"
    }
   ],
   "source": [
    "data[\"rx_otc\"].unique()"
   ]
  },
  {
   "cell_type": "code",
   "execution_count": 54,
   "id": "7a3a901f-5f0a-45dd-bc05-8b15dbd8d91b",
   "metadata": {},
   "outputs": [
    {
     "data": {
      "text/plain": [
       "array(['D', 'C', 'X', 'B', 'N', nan, 'A'], dtype=object)"
      ]
     },
     "execution_count": 54,
     "metadata": {},
     "output_type": "execute_result"
    }
   ],
   "source": [
    "data[\"pregnancy_category\"].unique()"
   ]
  },
  {
   "cell_type": "code",
   "execution_count": 55,
   "id": "f1547bd0-6a55-4d57-ab54-65ac85299a92",
   "metadata": {},
   "outputs": [
    {
     "data": {
      "text/plain": [
       "array(['N', '2', '4', 'U', 'M', '5', '3'], dtype=object)"
      ]
     },
     "execution_count": 55,
     "metadata": {},
     "output_type": "execute_result"
    }
   ],
   "source": [
    "data[\"csa\"].unique()"
   ]
  },
  {
   "cell_type": "code",
   "execution_count": 56,
   "id": "345e3593-977c-433b-a942-98294f557af5",
   "metadata": {},
   "outputs": [],
   "source": [
    "data['rx_otc'] = data['rx_otc'].fillna(\"Unknown\")"
   ]
  },
  {
   "cell_type": "code",
   "execution_count": 57,
   "id": "1d0dff43-59cf-417c-b279-d472631a7d0e",
   "metadata": {},
   "outputs": [],
   "source": [
    "data['generic_name']=data['generic_name'].fillna('Unknown')"
   ]
  },
  {
   "cell_type": "code",
   "execution_count": 58,
   "id": "0cca1bc9-1891-4051-8417-cdaf63fb06ff",
   "metadata": {},
   "outputs": [],
   "source": [
    "data['alcohol']=data['alcohol'].replace( 'X','1' )"
   ]
  },
  {
   "cell_type": "code",
   "execution_count": 59,
   "id": "95bb1264-bf4a-4836-94da-5bbb096470f9",
   "metadata": {},
   "outputs": [],
   "source": [
    "data['alcohol']=data['alcohol'].fillna( '0' )    "
   ]
  },
  {
   "cell_type": "code",
   "execution_count": 60,
   "id": "e6acd199-a053-4d00-889f-c1044108d6b4",
   "metadata": {},
   "outputs": [],
   "source": [
    "Data1 =data.copy()"
   ]
  },
  {
   "cell_type": "code",
   "execution_count": 61,
   "id": "fdcc776b-604e-4551-8213-8946de669200",
   "metadata": {},
   "outputs": [
    {
     "name": "stdout",
     "output_type": "stream",
     "text": [
      "<class 'pandas.core.frame.DataFrame'>\n",
      "RangeIndex: 2931 entries, 0 to 2930\n",
      "Data columns (total 17 columns):\n",
      " #   Column                         Non-Null Count  Dtype  \n",
      "---  ------                         --------------  -----  \n",
      " 0   drug_name                      2931 non-null   object \n",
      " 1   medical_condition              2931 non-null   object \n",
      " 2   side_effects                   2931 non-null   object \n",
      " 3   generic_name                   2931 non-null   object \n",
      " 4   drug_classes                   2849 non-null   object \n",
      " 5   brand_names                    1718 non-null   object \n",
      " 6   activity                       2931 non-null   float64\n",
      " 7   rx_otc                         2931 non-null   object \n",
      " 8   pregnancy_category             2702 non-null   object \n",
      " 9   csa                            2931 non-null   object \n",
      " 10  alcohol                        2931 non-null   object \n",
      " 11  related_drugs                  2931 non-null   object \n",
      " 12  medical_condition_description  2931 non-null   object \n",
      " 13  rating                         2931 non-null   object \n",
      " 14  no_of_reviews                  2931 non-null   object \n",
      " 15  drug_link                      2931 non-null   object \n",
      " 16  medical_condition_url          2931 non-null   object \n",
      "dtypes: float64(1), object(16)\n",
      "memory usage: 389.4+ KB\n"
     ]
    }
   ],
   "source": [
    "Data1.info()\n",
    "\n"
   ]
  },
  {
   "cell_type": "code",
   "execution_count": 62,
   "id": "8798f008-9f88-409a-8c7f-f1d954884f0f",
   "metadata": {},
   "outputs": [
    {
     "data": {
      "text/html": [
       "<div>\n",
       "<style scoped>\n",
       "    .dataframe tbody tr th:only-of-type {\n",
       "        vertical-align: middle;\n",
       "    }\n",
       "\n",
       "    .dataframe tbody tr th {\n",
       "        vertical-align: top;\n",
       "    }\n",
       "\n",
       "    .dataframe thead th {\n",
       "        text-align: right;\n",
       "    }\n",
       "</style>\n",
       "<table border=\"1\" class=\"dataframe\">\n",
       "  <thead>\n",
       "    <tr style=\"text-align: right;\">\n",
       "      <th></th>\n",
       "      <th>drug_name</th>\n",
       "      <th>medical_condition</th>\n",
       "      <th>side_effects</th>\n",
       "      <th>generic_name</th>\n",
       "      <th>drug_classes</th>\n",
       "      <th>brand_names</th>\n",
       "      <th>activity</th>\n",
       "      <th>rx_otc</th>\n",
       "      <th>pregnancy_category</th>\n",
       "      <th>csa</th>\n",
       "      <th>alcohol</th>\n",
       "      <th>related_drugs</th>\n",
       "      <th>medical_condition_description</th>\n",
       "      <th>rating</th>\n",
       "      <th>no_of_reviews</th>\n",
       "      <th>drug_link</th>\n",
       "      <th>medical_condition_url</th>\n",
       "    </tr>\n",
       "  </thead>\n",
       "  <tbody>\n",
       "    <tr>\n",
       "      <th>0</th>\n",
       "      <td>doxycycline</td>\n",
       "      <td>Acne</td>\n",
       "      <td>(hives, difficult breathing, swelling in your ...</td>\n",
       "      <td>doxycycline</td>\n",
       "      <td>Miscellaneous antimalarials, Tetracyclines</td>\n",
       "      <td>Acticlate, Adoxa CK, Adoxa Pak, Adoxa TT, Alod...</td>\n",
       "      <td>87.0</td>\n",
       "      <td>Rx</td>\n",
       "      <td>D</td>\n",
       "      <td>N</td>\n",
       "      <td>1</td>\n",
       "      <td>amoxicillin: https://www.drugs.com/amoxicillin...</td>\n",
       "      <td>Acne Other names: Acne Vulgaris; Blackheads; B...</td>\n",
       "      <td>6.8</td>\n",
       "      <td>760.0</td>\n",
       "      <td>https://www.drugs.com/doxycycline.html</td>\n",
       "      <td>https://www.drugs.com/condition/acne.html</td>\n",
       "    </tr>\n",
       "    <tr>\n",
       "      <th>1</th>\n",
       "      <td>spironolactone</td>\n",
       "      <td>Acne</td>\n",
       "      <td>hives ; difficulty breathing; swelling of your...</td>\n",
       "      <td>spironolactone</td>\n",
       "      <td>Aldosterone receptor antagonists, Potassium-sp...</td>\n",
       "      <td>Aldactone, CaroSpir</td>\n",
       "      <td>82.0</td>\n",
       "      <td>Rx</td>\n",
       "      <td>C</td>\n",
       "      <td>N</td>\n",
       "      <td>1</td>\n",
       "      <td>amlodipine: https://www.drugs.com/amlodipine.h...</td>\n",
       "      <td>Acne Other names: Acne Vulgaris; Blackheads; B...</td>\n",
       "      <td>7.2</td>\n",
       "      <td>449.0</td>\n",
       "      <td>https://www.drugs.com/spironolactone.html</td>\n",
       "      <td>https://www.drugs.com/condition/acne.html</td>\n",
       "    </tr>\n",
       "    <tr>\n",
       "      <th>2</th>\n",
       "      <td>minocycline</td>\n",
       "      <td>Acne</td>\n",
       "      <td>skin rash, fever, swollen glands, flu-like sym...</td>\n",
       "      <td>minocycline</td>\n",
       "      <td>Tetracyclines</td>\n",
       "      <td>Dynacin, Minocin, Minolira, Solodyn, Ximino, V...</td>\n",
       "      <td>48.0</td>\n",
       "      <td>Rx</td>\n",
       "      <td>D</td>\n",
       "      <td>N</td>\n",
       "      <td>0</td>\n",
       "      <td>amoxicillin: https://www.drugs.com/amoxicillin...</td>\n",
       "      <td>Acne Other names: Acne Vulgaris; Blackheads; B...</td>\n",
       "      <td>5.7</td>\n",
       "      <td>482.0</td>\n",
       "      <td>https://www.drugs.com/minocycline.html</td>\n",
       "      <td>https://www.drugs.com/condition/acne.html</td>\n",
       "    </tr>\n",
       "    <tr>\n",
       "      <th>3</th>\n",
       "      <td>Accutane</td>\n",
       "      <td>Acne</td>\n",
       "      <td>problems with your vision or hearing; muscle o...</td>\n",
       "      <td>isotretinoin (oral)</td>\n",
       "      <td>Miscellaneous antineoplastics, Miscellaneous u...</td>\n",
       "      <td>NaN</td>\n",
       "      <td>41.0</td>\n",
       "      <td>Rx</td>\n",
       "      <td>X</td>\n",
       "      <td>N</td>\n",
       "      <td>1</td>\n",
       "      <td>doxycycline: https://www.drugs.com/doxycycline...</td>\n",
       "      <td>Acne Other names: Acne Vulgaris; Blackheads; B...</td>\n",
       "      <td>7.9</td>\n",
       "      <td>623.0</td>\n",
       "      <td>https://www.drugs.com/accutane.html</td>\n",
       "      <td>https://www.drugs.com/condition/acne.html</td>\n",
       "    </tr>\n",
       "    <tr>\n",
       "      <th>4</th>\n",
       "      <td>clindamycin</td>\n",
       "      <td>Acne</td>\n",
       "      <td>hives ; difficult breathing; swelling of your ...</td>\n",
       "      <td>clindamycin topical</td>\n",
       "      <td>Topical acne agents, Vaginal anti-infectives</td>\n",
       "      <td>Cleocin T, Clindacin ETZ, Clindacin P, Clindag...</td>\n",
       "      <td>39.0</td>\n",
       "      <td>Rx</td>\n",
       "      <td>B</td>\n",
       "      <td>N</td>\n",
       "      <td>0</td>\n",
       "      <td>doxycycline: https://www.drugs.com/doxycycline...</td>\n",
       "      <td>Acne Other names: Acne Vulgaris; Blackheads; B...</td>\n",
       "      <td>7.4</td>\n",
       "      <td>146.0</td>\n",
       "      <td>https://www.drugs.com/mtm/clindamycin-topical....</td>\n",
       "      <td>https://www.drugs.com/condition/acne.html</td>\n",
       "    </tr>\n",
       "    <tr>\n",
       "      <th>...</th>\n",
       "      <td>...</td>\n",
       "      <td>...</td>\n",
       "      <td>...</td>\n",
       "      <td>...</td>\n",
       "      <td>...</td>\n",
       "      <td>...</td>\n",
       "      <td>...</td>\n",
       "      <td>...</td>\n",
       "      <td>...</td>\n",
       "      <td>...</td>\n",
       "      <td>...</td>\n",
       "      <td>...</td>\n",
       "      <td>...</td>\n",
       "      <td>...</td>\n",
       "      <td>...</td>\n",
       "      <td>...</td>\n",
       "      <td>...</td>\n",
       "    </tr>\n",
       "    <tr>\n",
       "      <th>2926</th>\n",
       "      <td>benzphetamine</td>\n",
       "      <td>Weight Loss</td>\n",
       "      <td>hives ; difficulty breathing; swelling of your...</td>\n",
       "      <td>benzphetamine</td>\n",
       "      <td>Anorexiants, CNS stimulants</td>\n",
       "      <td>Didrex, Regimex</td>\n",
       "      <td>2.0</td>\n",
       "      <td>Rx</td>\n",
       "      <td>X</td>\n",
       "      <td>3</td>\n",
       "      <td>1</td>\n",
       "      <td>phentermine: https://www.drugs.com/phentermine...</td>\n",
       "      <td>Weight Loss (Obesity/Overweight) More than hal...</td>\n",
       "      <td>7.5</td>\n",
       "      <td>17.0</td>\n",
       "      <td>https://www.drugs.com/mtm/benzphetamine.html</td>\n",
       "      <td>https://www.drugs.com/condition/obesity.html</td>\n",
       "    </tr>\n",
       "    <tr>\n",
       "      <th>2927</th>\n",
       "      <td>fenfluramine</td>\n",
       "      <td>Weight Loss</td>\n",
       "      <td>hives ; difficult breathing; swelling of your ...</td>\n",
       "      <td>fenfluramine</td>\n",
       "      <td>Anorexiants, CNS stimulants, Miscellaneous ant...</td>\n",
       "      <td>Fintepla</td>\n",
       "      <td>1.0</td>\n",
       "      <td>Rx</td>\n",
       "      <td>C</td>\n",
       "      <td>4</td>\n",
       "      <td>1</td>\n",
       "      <td>Unknown</td>\n",
       "      <td>Weight Loss (Obesity/Overweight) More than hal...</td>\n",
       "      <td>0</td>\n",
       "      <td>0</td>\n",
       "      <td>https://www.drugs.com/mtm/fenfluramine.html</td>\n",
       "      <td>https://www.drugs.com/condition/obesity.html</td>\n",
       "    </tr>\n",
       "    <tr>\n",
       "      <th>2928</th>\n",
       "      <td>Fendique ER</td>\n",
       "      <td>Weight Loss</td>\n",
       "      <td>Unknown</td>\n",
       "      <td>phendimetrazine tartrate</td>\n",
       "      <td>Anorexiants, CNS stimulants</td>\n",
       "      <td>NaN</td>\n",
       "      <td>0.0</td>\n",
       "      <td>Rx</td>\n",
       "      <td>C</td>\n",
       "      <td>3</td>\n",
       "      <td>1</td>\n",
       "      <td>phentermine: https://www.drugs.com/phentermine...</td>\n",
       "      <td>Weight Loss (Obesity/Overweight) More than hal...</td>\n",
       "      <td>0</td>\n",
       "      <td>0</td>\n",
       "      <td>https://www.drugs.com/pro/fendique-er.html</td>\n",
       "      <td>https://www.drugs.com/condition/obesity.html</td>\n",
       "    </tr>\n",
       "    <tr>\n",
       "      <th>2929</th>\n",
       "      <td>Imcivree</td>\n",
       "      <td>Weight Loss</td>\n",
       "      <td>Imcivree may cause serious side effects, inclu...</td>\n",
       "      <td>setmelanotide</td>\n",
       "      <td>Melanocortin receptor agonists</td>\n",
       "      <td>NaN</td>\n",
       "      <td>0.0</td>\n",
       "      <td>Rx</td>\n",
       "      <td>NaN</td>\n",
       "      <td>N</td>\n",
       "      <td>0</td>\n",
       "      <td>phentermine: https://www.drugs.com/phentermine...</td>\n",
       "      <td>Weight Loss (Obesity/Overweight) More than hal...</td>\n",
       "      <td>0</td>\n",
       "      <td>0</td>\n",
       "      <td>https://www.drugs.com/imcivree.html</td>\n",
       "      <td>https://www.drugs.com/condition/obesity.html</td>\n",
       "    </tr>\n",
       "    <tr>\n",
       "      <th>2930</th>\n",
       "      <td>setmelanotide</td>\n",
       "      <td>Weight Loss</td>\n",
       "      <td>hives ; difficult breathing; swelling of your ...</td>\n",
       "      <td>setmelanotide</td>\n",
       "      <td>Melanocortin receptor agonists</td>\n",
       "      <td>Imcivree</td>\n",
       "      <td>0.0</td>\n",
       "      <td>Rx</td>\n",
       "      <td>NaN</td>\n",
       "      <td>N</td>\n",
       "      <td>0</td>\n",
       "      <td>phentermine: https://www.drugs.com/phentermine...</td>\n",
       "      <td>Weight Loss (Obesity/Overweight) More than hal...</td>\n",
       "      <td>0</td>\n",
       "      <td>0</td>\n",
       "      <td>https://www.drugs.com/mtm/setmelanotide.html</td>\n",
       "      <td>https://www.drugs.com/condition/obesity.html</td>\n",
       "    </tr>\n",
       "  </tbody>\n",
       "</table>\n",
       "<p>2931 rows × 17 columns</p>\n",
       "</div>"
      ],
      "text/plain": [
       "           drug_name medical_condition  \\\n",
       "0        doxycycline              Acne   \n",
       "1     spironolactone              Acne   \n",
       "2        minocycline              Acne   \n",
       "3           Accutane              Acne   \n",
       "4        clindamycin              Acne   \n",
       "...              ...               ...   \n",
       "2926   benzphetamine       Weight Loss   \n",
       "2927    fenfluramine       Weight Loss   \n",
       "2928     Fendique ER       Weight Loss   \n",
       "2929        Imcivree       Weight Loss   \n",
       "2930   setmelanotide       Weight Loss   \n",
       "\n",
       "                                           side_effects  \\\n",
       "0     (hives, difficult breathing, swelling in your ...   \n",
       "1     hives ; difficulty breathing; swelling of your...   \n",
       "2     skin rash, fever, swollen glands, flu-like sym...   \n",
       "3     problems with your vision or hearing; muscle o...   \n",
       "4     hives ; difficult breathing; swelling of your ...   \n",
       "...                                                 ...   \n",
       "2926  hives ; difficulty breathing; swelling of your...   \n",
       "2927  hives ; difficult breathing; swelling of your ...   \n",
       "2928                                            Unknown   \n",
       "2929  Imcivree may cause serious side effects, inclu...   \n",
       "2930  hives ; difficult breathing; swelling of your ...   \n",
       "\n",
       "                  generic_name  \\\n",
       "0                  doxycycline   \n",
       "1               spironolactone   \n",
       "2                  minocycline   \n",
       "3          isotretinoin (oral)   \n",
       "4          clindamycin topical   \n",
       "...                        ...   \n",
       "2926             benzphetamine   \n",
       "2927              fenfluramine   \n",
       "2928  phendimetrazine tartrate   \n",
       "2929             setmelanotide   \n",
       "2930             setmelanotide   \n",
       "\n",
       "                                           drug_classes  \\\n",
       "0            Miscellaneous antimalarials, Tetracyclines   \n",
       "1     Aldosterone receptor antagonists, Potassium-sp...   \n",
       "2                                         Tetracyclines   \n",
       "3     Miscellaneous antineoplastics, Miscellaneous u...   \n",
       "4          Topical acne agents, Vaginal anti-infectives   \n",
       "...                                                 ...   \n",
       "2926                        Anorexiants, CNS stimulants   \n",
       "2927  Anorexiants, CNS stimulants, Miscellaneous ant...   \n",
       "2928                        Anorexiants, CNS stimulants   \n",
       "2929                     Melanocortin receptor agonists   \n",
       "2930                     Melanocortin receptor agonists   \n",
       "\n",
       "                                            brand_names  activity rx_otc  \\\n",
       "0     Acticlate, Adoxa CK, Adoxa Pak, Adoxa TT, Alod...      87.0     Rx   \n",
       "1                                   Aldactone, CaroSpir      82.0     Rx   \n",
       "2     Dynacin, Minocin, Minolira, Solodyn, Ximino, V...      48.0     Rx   \n",
       "3                                                   NaN      41.0     Rx   \n",
       "4     Cleocin T, Clindacin ETZ, Clindacin P, Clindag...      39.0     Rx   \n",
       "...                                                 ...       ...    ...   \n",
       "2926                                    Didrex, Regimex       2.0     Rx   \n",
       "2927                                           Fintepla       1.0     Rx   \n",
       "2928                                                NaN       0.0     Rx   \n",
       "2929                                                NaN       0.0     Rx   \n",
       "2930                                           Imcivree       0.0     Rx   \n",
       "\n",
       "     pregnancy_category csa alcohol  \\\n",
       "0                     D   N       1   \n",
       "1                     C   N       1   \n",
       "2                     D   N       0   \n",
       "3                     X   N       1   \n",
       "4                     B   N       0   \n",
       "...                 ...  ..     ...   \n",
       "2926                  X   3       1   \n",
       "2927                  C   4       1   \n",
       "2928                  C   3       1   \n",
       "2929                NaN   N       0   \n",
       "2930                NaN   N       0   \n",
       "\n",
       "                                          related_drugs  \\\n",
       "0     amoxicillin: https://www.drugs.com/amoxicillin...   \n",
       "1     amlodipine: https://www.drugs.com/amlodipine.h...   \n",
       "2     amoxicillin: https://www.drugs.com/amoxicillin...   \n",
       "3     doxycycline: https://www.drugs.com/doxycycline...   \n",
       "4     doxycycline: https://www.drugs.com/doxycycline...   \n",
       "...                                                 ...   \n",
       "2926  phentermine: https://www.drugs.com/phentermine...   \n",
       "2927                                            Unknown   \n",
       "2928  phentermine: https://www.drugs.com/phentermine...   \n",
       "2929  phentermine: https://www.drugs.com/phentermine...   \n",
       "2930  phentermine: https://www.drugs.com/phentermine...   \n",
       "\n",
       "                          medical_condition_description rating no_of_reviews  \\\n",
       "0     Acne Other names: Acne Vulgaris; Blackheads; B...    6.8         760.0   \n",
       "1     Acne Other names: Acne Vulgaris; Blackheads; B...    7.2         449.0   \n",
       "2     Acne Other names: Acne Vulgaris; Blackheads; B...    5.7         482.0   \n",
       "3     Acne Other names: Acne Vulgaris; Blackheads; B...    7.9         623.0   \n",
       "4     Acne Other names: Acne Vulgaris; Blackheads; B...    7.4         146.0   \n",
       "...                                                 ...    ...           ...   \n",
       "2926  Weight Loss (Obesity/Overweight) More than hal...    7.5          17.0   \n",
       "2927  Weight Loss (Obesity/Overweight) More than hal...      0             0   \n",
       "2928  Weight Loss (Obesity/Overweight) More than hal...      0             0   \n",
       "2929  Weight Loss (Obesity/Overweight) More than hal...      0             0   \n",
       "2930  Weight Loss (Obesity/Overweight) More than hal...      0             0   \n",
       "\n",
       "                                              drug_link  \\\n",
       "0                https://www.drugs.com/doxycycline.html   \n",
       "1             https://www.drugs.com/spironolactone.html   \n",
       "2                https://www.drugs.com/minocycline.html   \n",
       "3                   https://www.drugs.com/accutane.html   \n",
       "4     https://www.drugs.com/mtm/clindamycin-topical....   \n",
       "...                                                 ...   \n",
       "2926       https://www.drugs.com/mtm/benzphetamine.html   \n",
       "2927        https://www.drugs.com/mtm/fenfluramine.html   \n",
       "2928         https://www.drugs.com/pro/fendique-er.html   \n",
       "2929                https://www.drugs.com/imcivree.html   \n",
       "2930       https://www.drugs.com/mtm/setmelanotide.html   \n",
       "\n",
       "                             medical_condition_url  \n",
       "0        https://www.drugs.com/condition/acne.html  \n",
       "1        https://www.drugs.com/condition/acne.html  \n",
       "2        https://www.drugs.com/condition/acne.html  \n",
       "3        https://www.drugs.com/condition/acne.html  \n",
       "4        https://www.drugs.com/condition/acne.html  \n",
       "...                                            ...  \n",
       "2926  https://www.drugs.com/condition/obesity.html  \n",
       "2927  https://www.drugs.com/condition/obesity.html  \n",
       "2928  https://www.drugs.com/condition/obesity.html  \n",
       "2929  https://www.drugs.com/condition/obesity.html  \n",
       "2930  https://www.drugs.com/condition/obesity.html  \n",
       "\n",
       "[2931 rows x 17 columns]"
      ]
     },
     "execution_count": 62,
     "metadata": {},
     "output_type": "execute_result"
    }
   ],
   "source": [
    "data"
   ]
  },
  {
   "cell_type": "code",
   "execution_count": 63,
   "id": "df567048-2425-4182-9070-281a42ee2ebe",
   "metadata": {},
   "outputs": [],
   "source": [
    "DATA2 = data.copy"
   ]
  },
  {
   "cell_type": "code",
   "execution_count": 64,
   "id": "d115df73-7bf4-487b-be11-dae001435e28",
   "metadata": {},
   "outputs": [
    {
     "data": {
      "text/plain": [
       "<bound method NDFrame.copy of            drug_name medical_condition  \\\n",
       "0        doxycycline              Acne   \n",
       "1     spironolactone              Acne   \n",
       "2        minocycline              Acne   \n",
       "3           Accutane              Acne   \n",
       "4        clindamycin              Acne   \n",
       "...              ...               ...   \n",
       "2926   benzphetamine       Weight Loss   \n",
       "2927    fenfluramine       Weight Loss   \n",
       "2928     Fendique ER       Weight Loss   \n",
       "2929        Imcivree       Weight Loss   \n",
       "2930   setmelanotide       Weight Loss   \n",
       "\n",
       "                                           side_effects  \\\n",
       "0     (hives, difficult breathing, swelling in your ...   \n",
       "1     hives ; difficulty breathing; swelling of your...   \n",
       "2     skin rash, fever, swollen glands, flu-like sym...   \n",
       "3     problems with your vision or hearing; muscle o...   \n",
       "4     hives ; difficult breathing; swelling of your ...   \n",
       "...                                                 ...   \n",
       "2926  hives ; difficulty breathing; swelling of your...   \n",
       "2927  hives ; difficult breathing; swelling of your ...   \n",
       "2928                                            Unknown   \n",
       "2929  Imcivree may cause serious side effects, inclu...   \n",
       "2930  hives ; difficult breathing; swelling of your ...   \n",
       "\n",
       "                  generic_name  \\\n",
       "0                  doxycycline   \n",
       "1               spironolactone   \n",
       "2                  minocycline   \n",
       "3          isotretinoin (oral)   \n",
       "4          clindamycin topical   \n",
       "...                        ...   \n",
       "2926             benzphetamine   \n",
       "2927              fenfluramine   \n",
       "2928  phendimetrazine tartrate   \n",
       "2929             setmelanotide   \n",
       "2930             setmelanotide   \n",
       "\n",
       "                                           drug_classes  \\\n",
       "0            Miscellaneous antimalarials, Tetracyclines   \n",
       "1     Aldosterone receptor antagonists, Potassium-sp...   \n",
       "2                                         Tetracyclines   \n",
       "3     Miscellaneous antineoplastics, Miscellaneous u...   \n",
       "4          Topical acne agents, Vaginal anti-infectives   \n",
       "...                                                 ...   \n",
       "2926                        Anorexiants, CNS stimulants   \n",
       "2927  Anorexiants, CNS stimulants, Miscellaneous ant...   \n",
       "2928                        Anorexiants, CNS stimulants   \n",
       "2929                     Melanocortin receptor agonists   \n",
       "2930                     Melanocortin receptor agonists   \n",
       "\n",
       "                                            brand_names  activity rx_otc  \\\n",
       "0     Acticlate, Adoxa CK, Adoxa Pak, Adoxa TT, Alod...      87.0     Rx   \n",
       "1                                   Aldactone, CaroSpir      82.0     Rx   \n",
       "2     Dynacin, Minocin, Minolira, Solodyn, Ximino, V...      48.0     Rx   \n",
       "3                                                   NaN      41.0     Rx   \n",
       "4     Cleocin T, Clindacin ETZ, Clindacin P, Clindag...      39.0     Rx   \n",
       "...                                                 ...       ...    ...   \n",
       "2926                                    Didrex, Regimex       2.0     Rx   \n",
       "2927                                           Fintepla       1.0     Rx   \n",
       "2928                                                NaN       0.0     Rx   \n",
       "2929                                                NaN       0.0     Rx   \n",
       "2930                                           Imcivree       0.0     Rx   \n",
       "\n",
       "     pregnancy_category csa alcohol  \\\n",
       "0                     D   N       1   \n",
       "1                     C   N       1   \n",
       "2                     D   N       0   \n",
       "3                     X   N       1   \n",
       "4                     B   N       0   \n",
       "...                 ...  ..     ...   \n",
       "2926                  X   3       1   \n",
       "2927                  C   4       1   \n",
       "2928                  C   3       1   \n",
       "2929                NaN   N       0   \n",
       "2930                NaN   N       0   \n",
       "\n",
       "                                          related_drugs  \\\n",
       "0     amoxicillin: https://www.drugs.com/amoxicillin...   \n",
       "1     amlodipine: https://www.drugs.com/amlodipine.h...   \n",
       "2     amoxicillin: https://www.drugs.com/amoxicillin...   \n",
       "3     doxycycline: https://www.drugs.com/doxycycline...   \n",
       "4     doxycycline: https://www.drugs.com/doxycycline...   \n",
       "...                                                 ...   \n",
       "2926  phentermine: https://www.drugs.com/phentermine...   \n",
       "2927                                            Unknown   \n",
       "2928  phentermine: https://www.drugs.com/phentermine...   \n",
       "2929  phentermine: https://www.drugs.com/phentermine...   \n",
       "2930  phentermine: https://www.drugs.com/phentermine...   \n",
       "\n",
       "                          medical_condition_description rating no_of_reviews  \\\n",
       "0     Acne Other names: Acne Vulgaris; Blackheads; B...    6.8         760.0   \n",
       "1     Acne Other names: Acne Vulgaris; Blackheads; B...    7.2         449.0   \n",
       "2     Acne Other names: Acne Vulgaris; Blackheads; B...    5.7         482.0   \n",
       "3     Acne Other names: Acne Vulgaris; Blackheads; B...    7.9         623.0   \n",
       "4     Acne Other names: Acne Vulgaris; Blackheads; B...    7.4         146.0   \n",
       "...                                                 ...    ...           ...   \n",
       "2926  Weight Loss (Obesity/Overweight) More than hal...    7.5          17.0   \n",
       "2927  Weight Loss (Obesity/Overweight) More than hal...      0             0   \n",
       "2928  Weight Loss (Obesity/Overweight) More than hal...      0             0   \n",
       "2929  Weight Loss (Obesity/Overweight) More than hal...      0             0   \n",
       "2930  Weight Loss (Obesity/Overweight) More than hal...      0             0   \n",
       "\n",
       "                                              drug_link  \\\n",
       "0                https://www.drugs.com/doxycycline.html   \n",
       "1             https://www.drugs.com/spironolactone.html   \n",
       "2                https://www.drugs.com/minocycline.html   \n",
       "3                   https://www.drugs.com/accutane.html   \n",
       "4     https://www.drugs.com/mtm/clindamycin-topical....   \n",
       "...                                                 ...   \n",
       "2926       https://www.drugs.com/mtm/benzphetamine.html   \n",
       "2927        https://www.drugs.com/mtm/fenfluramine.html   \n",
       "2928         https://www.drugs.com/pro/fendique-er.html   \n",
       "2929                https://www.drugs.com/imcivree.html   \n",
       "2930       https://www.drugs.com/mtm/setmelanotide.html   \n",
       "\n",
       "                             medical_condition_url  \n",
       "0        https://www.drugs.com/condition/acne.html  \n",
       "1        https://www.drugs.com/condition/acne.html  \n",
       "2        https://www.drugs.com/condition/acne.html  \n",
       "3        https://www.drugs.com/condition/acne.html  \n",
       "4        https://www.drugs.com/condition/acne.html  \n",
       "...                                            ...  \n",
       "2926  https://www.drugs.com/condition/obesity.html  \n",
       "2927  https://www.drugs.com/condition/obesity.html  \n",
       "2928  https://www.drugs.com/condition/obesity.html  \n",
       "2929  https://www.drugs.com/condition/obesity.html  \n",
       "2930  https://www.drugs.com/condition/obesity.html  \n",
       "\n",
       "[2931 rows x 17 columns]>"
      ]
     },
     "execution_count": 64,
     "metadata": {},
     "output_type": "execute_result"
    }
   ],
   "source": [
    "DATA2"
   ]
  },
  {
   "cell_type": "code",
   "execution_count": null,
   "id": "9a58c2bc-ee0e-461c-93b3-d1c935d97367",
   "metadata": {},
   "outputs": [],
   "source": []
  },
  {
   "cell_type": "code",
   "execution_count": 65,
   "id": "012e2f01-eaf9-478c-b15d-1f586e01ffa4",
   "metadata": {},
   "outputs": [],
   "source": [
    "Data1.to_csv('Drug_safety.csv', index = False)"
   ]
  },
  {
   "cell_type": "code",
   "execution_count": 66,
   "id": "141fe84b-fea9-4849-9eb5-1337670a72b0",
   "metadata": {},
   "outputs": [],
   "source": [
    "Data_3 = pd.read_csv('Drug_safety.csv')"
   ]
  },
  {
   "cell_type": "code",
   "execution_count": 67,
   "id": "ff6f9c36-d54a-40ea-a119-3397bc07ab79",
   "metadata": {},
   "outputs": [
    {
     "name": "stdout",
     "output_type": "stream",
     "text": [
      "<class 'pandas.core.frame.DataFrame'>\n",
      "RangeIndex: 2931 entries, 0 to 2930\n",
      "Data columns (total 17 columns):\n",
      " #   Column                         Non-Null Count  Dtype  \n",
      "---  ------                         --------------  -----  \n",
      " 0   drug_name                      2931 non-null   object \n",
      " 1   medical_condition              2931 non-null   object \n",
      " 2   side_effects                   2931 non-null   object \n",
      " 3   generic_name                   2931 non-null   object \n",
      " 4   drug_classes                   2849 non-null   object \n",
      " 5   brand_names                    1718 non-null   object \n",
      " 6   activity                       2931 non-null   float64\n",
      " 7   rx_otc                         2931 non-null   object \n",
      " 8   pregnancy_category             2702 non-null   object \n",
      " 9   csa                            2931 non-null   object \n",
      " 10  alcohol                        2931 non-null   int64  \n",
      " 11  related_drugs                  2931 non-null   object \n",
      " 12  medical_condition_description  2931 non-null   object \n",
      " 13  rating                         2931 non-null   float64\n",
      " 14  no_of_reviews                  2931 non-null   float64\n",
      " 15  drug_link                      2931 non-null   object \n",
      " 16  medical_condition_url          2931 non-null   object \n",
      "dtypes: float64(3), int64(1), object(13)\n",
      "memory usage: 389.4+ KB\n"
     ]
    }
   ],
   "source": [
    "Data_3.info()"
   ]
  },
  {
   "cell_type": "code",
   "execution_count": 68,
   "id": "fb127375-d360-423e-b892-31cf3c9fc567",
   "metadata": {},
   "outputs": [
    {
     "data": {
      "text/plain": [
       "array(['(hives, difficult breathing, swelling in your face or throat) or a severe skin reaction (fever, sore throat, burning in your eyes, skin pain, red or purple skin rash that spreads and causes blistering and peeling). Seek medical treatment if you have a serious drug reaction that can affect many parts of your body. Symptoms may include: skin rash, fever, swollen glands, flu-like symptoms, muscle aches, severe weakness, unusual bruising, or yellowing of your skin or eyes. This reaction may occur several weeks after you began using doxycycline. Doxycycline may cause serious side effects. Call your doctor at once if you have: severe stomach pain, diarrhea that is watery or bloody; throat irritation, trouble swallowing; chest pain, irregular heart rhythm, feeling short of breath; little or no urination; low white blood cell counts - fever, chills, swollen glands, body aches, weakness, pale skin, easy bruising or bleeding; severe headaches, ringing in your ears, dizziness, nausea, vision problems, pain behind your eyes; loss of appetite, upper stomach pain (that may spread to your back), tiredness, nausea or vomiting, fast heart rate, dark urine, jaundice (yellowing of the skin or eyes). Common side effects of doxycycline may include: nausea and vomiting; upset stomach; loss of appetite; mild diarrhea; skin rash or itching; darkened skin color; vaginal itching or discharge.',\n",
       "       'hives ; difficulty breathing; swelling of your face, lips, tongue, or throat. Call your doctor at once if you have: a light-headed feeling, like you might pass out; little or no urination; high potassium level - nausea , weakness, tingly feeling, chest pain, irregular heartbeats, loss of movement; o signs of other electrolyte imbalances - increased thirst or urination, confusion, vomiting , muscle pain, slurred speech, severe weakness, numbness , loss of coordination, feeling unsteady. Common spironolactone side effects may include: breast swelling or tenderness.',\n",
       "       'skin rash, fever, swollen glands, flu-like symptoms, muscle aches, severe weakness, unusual bruising, or yellowing of your skin or eyes. This may be more likely with long-term use of minocycline, and the reaction may occur several weeks after you began using this medicine. Call your doctor at once if you have: little or no urination, swelling in your feet or ankles, feeling tired or short of breath (signs of kidney problems); loss of appetite, upper stomach pain (that may spread to your back), nausea or vomiting, loss of appetite, easy bruising or bleeding, dark urine, yellowing of the skin or eyes (signs of liver or pancreas problems); joint pain or swelling with fever, swollen glands, muscle aches, chest pain, vomiting, unusual thoughts or behavior, and patchy skin color; severe headaches, ringing in your ears, dizziness, vision problems, pain behind your eyes; or swollen glands, flu symptoms, easy bruising or bleeding, severe tingling or numbness, muscle weakness, chest pain, new or worsening cough with fever, trouble breathing. Common minocycline side effects may include: numbness , tingling, burning pain; hair loss ; discoloration of you skin or nails. dizziness, spinning sensation; muscle or joint pain; nausea, diarrhea, loss of appetite; swollen tongue, cough, trouble swallowing; rash, itching; or headache .',\n",
       "       ...,\n",
       "       'hives ; difficult breathing; swelling of your face, lips, tongue, or throat. Report any new or worsening symptoms to your doctor, such as: mood or behavior changes, anxiety , panic attacks , trouble sleeping, or if you feel impulsive, irritable, agitated, hostile, aggressive, restless, hyperactive (mentally or physically), more depressed, or have thoughts about suicide or hurting yourself. Fenfluramine can cause serious side effects on your heart and lungs. Call your doctor right away if you have: chest pain, pounding heartbeats or fluttering in your chest; shortness or breath; blue colored skin or lips; swelling in your lower legs; or unusual tiredness or weakness, feeling like you might pass out. Also call your doctor at once if you have: loss of appetite and weight loss; worsening seizures; blurred vision, tunnel vision, eye pain or redness, or seeing halos around lights; nausea or vomiting ; or increased blood pressure--severe headache , blurred vision, pounding in your neck or ears, anxiety, nosebleed. Seek medical attention right away if you have symptoms of serotonin syndrome, such as: agitation , hallucinations, fever, sweating, shivering, fast heart rate , muscle stiffness, twitching, loss of coordination, nausea, vomiting, or diarrhea . Fenfluramine can affect weight or growth in children. Tell your doctor if your child is not growing at a normal rate while using this medicine. Common side effects of fenfluramine may include: loss of appetite, vomiting, diarrhea, constipation ; seizures that do not stop; feeling weak or tired; fever, infections; abnormal heart function tests; problems with balance, walking, or muscle movement; drooling ; or cold symptoms such as stuffy nose, sneezing, sore throat .',\n",
       "       'Imcivree may cause serious side effects, including: Male and female sexual function problems. Imcivree can cause an erection that happens without any sexual activity in males (spontaneous penile erection) and unwanted sexual reactions (changes in sexual arousal that happen without any sexual activity) in females. If you have an erection lasting longer than 4 hours, get emergency medical help right away. Depression and suicidal thoughts or actions. You or a caregiver should call your healthcare provider right away if you have any new or worsening symptoms of depression. Increased skin pigmentation and darkening of skin lesions (moles or nevi) you already have. These changes happen because of how Imcivree works in the body and will go away when you stop using Imcivree. You should have a full body skin exam before starting and during treatment to check for skin changes. Benzyl alcohol toxicity. Benzyl alcohol is a preservative in Imcivree. Benzyl alcohol can cause serious side effects, including death, in premature and low-birth weight infants, who have received medicines that contain benzyl alcohol. Imcivree should not be used in premature and low-birth weight infants. The most common side effects of include: injection site reactions darkening of the skin nausea vomiting headache erection that happens without any sexual activity in males diarrhea stomach pain. These are not all the possible side effects. Call your doctor for medical advice about side effects. You may report side effects to FDA at 1-800-FDA-1088 or Rhythm Pharmaceuticals at 1-833-789-6337. Imcivree side effects',\n",
       "       'hives ; difficult breathing; swelling of your face, lips, tongue, or throat. Some people have thoughts about suicide while using setmelanotide. Tell your doctor right away if you have any sudden changes in mood or behavior, or thoughts about suicide. Setmelanotide may cause serious side effects. Call your doctor at once if you have: an erection lasting longer than 4 hours. Common side effects of setmelanotide may include: bruising, swelling, warmth, redness, oozing, or bleeding where an injection was given; skin darkening; headache ; erection without any sexual activity in males; or nausea , vomiting , diarrhea , or stomach pain.'],\n",
       "      dtype=object)"
      ]
     },
     "execution_count": 68,
     "metadata": {},
     "output_type": "execute_result"
    }
   ],
   "source": [
    "Data_3['side_effects'].unique()"
   ]
  },
  {
   "cell_type": "code",
   "execution_count": 69,
   "id": "3ef5c075-1538-4d29-9bae-b111969ad43b",
   "metadata": {},
   "outputs": [
    {
     "data": {
      "text/plain": [
       "array(['N', '2', '4', 'U', 'M', '5', '3'], dtype=object)"
      ]
     },
     "execution_count": 69,
     "metadata": {},
     "output_type": "execute_result"
    }
   ],
   "source": [
    "Data_3['csa'].unique()"
   ]
  },
  {
   "cell_type": "code",
   "execution_count": null,
   "id": "d553c10a-3ede-4f09-abaa-8d5838383904",
   "metadata": {},
   "outputs": [],
   "source": []
  },
  {
   "cell_type": "code",
   "execution_count": 70,
   "id": "cf498577-5f9d-41bb-93e6-b850a73424a3",
   "metadata": {},
   "outputs": [],
   "source": [
    "def has_hives(text):\n",
    "    return 'hives' in text.lower()\n",
    "Data_3['Hives'] = Data_3['side_effects'].apply(has_hives)"
   ]
  },
  {
   "cell_type": "code",
   "execution_count": 71,
   "id": "cadcc70e-14c8-4ee7-9e99-f42a62bc03a7",
   "metadata": {},
   "outputs": [],
   "source": [
    "def has_difficult_breathing(text):\n",
    "    return 'difficult breathing' in text.lower() or 'difficulty breathing' in text.lower()\n",
    "Data_3['Difficult Breathing'] =Data_3['side_effects'].apply(has_difficult_breathing)\n"
   ]
  },
  {
   "cell_type": "code",
   "execution_count": 72,
   "id": "2104dd1c-883d-4ff6-9665-eebaf20866a9",
   "metadata": {},
   "outputs": [],
   "source": [
    "def has_itching(text):\n",
    "    return 'itching' in text.lower()\n",
    "Data_3['Itching'] = Data_3['side_effects'].apply(has_itching)"
   ]
  },
  {
   "cell_type": "code",
   "execution_count": 73,
   "id": "6c294314-52dd-48d9-8838-fbf00ab61c6b",
   "metadata": {},
   "outputs": [],
   "source": [
    "def has_colds_and_flu(text):\n",
    "    return 'Colds & Flu' in text\n",
    "Data_3['Colds & Flu'] = Data_3['medical_condition'].apply(has_colds_and_flu)\n"
   ]
  },
  {
   "cell_type": "code",
   "execution_count": 74,
   "id": "f98794e4-d67b-4404-9c0d-98f9e18326e9",
   "metadata": {},
   "outputs": [],
   "source": [
    "def has_acne(text):\n",
    "    return 'Acne' in text\n",
    "Data_3['Acne'] = Data_3['medical_condition'].apply(has_acne)"
   ]
  },
  {
   "cell_type": "code",
   "execution_count": 75,
   "id": "8de88567-2245-4127-94e8-bdbe0f5c7156",
   "metadata": {},
   "outputs": [
    {
     "data": {
      "image/png": "[encoded data removed]",
      "text/plain": [
       "<Figure size 640x480 with 1 Axes>"
      ]
     },
     "metadata": {},
     "output_type": "display_data"
    }
   ],
   "source": [
    "Data_3['Hives'].value_counts().plot(kind='bar')\n",
    "plt.title('Count of Hives')\n",
    "plt.xlabel('Hives')\n",
    "plt.ylabel('Count')\n",
    "plt.xticks([0, 1], ['False', 'True'], rotation=0)\n",
    "plt.show()"
   ]
  },
  {
   "cell_type": "code",
   "execution_count": 76,
   "id": "db80cb00-7d8e-4b74-b16a-3013aa850a9b",
   "metadata": {},
   "outputs": [
    {
     "data": {
      "image/png": "[encoded data removed]",
      "text/plain": [
       "<Figure size 640x480 with 1 Axes>"
      ]
     },
     "metadata": {},
     "output_type": "display_data"
    }
   ],
   "source": [
    "Data_3['Acne'].value_counts().plot(kind='bar')\n",
    "plt.title('Count of Pain')\n",
    "plt.xlabel('Pain')\n",
    "plt.ylabel('Count')\n",
    "plt.xticks([0, 1], ['False', 'True'], rotation=0)\n",
    "plt.show()"
   ]
  },
  {
   "cell_type": "code",
   "execution_count": 77,
   "id": "d052a317-82e0-48c4-a397-1de49ca2a1e1",
   "metadata": {},
   "outputs": [
    {
     "data": {
      "text/plain": [
       "medical_condition\n",
       "ADHD                     55\n",
       "AIDS/HIV                109\n",
       "Acne                    238\n",
       "Allergies                14\n",
       "Alzheimer's              27\n",
       "Angina                   71\n",
       "Anxiety                  45\n",
       "Asthma                   45\n",
       "Bipolar Disorder         47\n",
       "Bronchitis               71\n",
       "COPD                     23\n",
       "Cancer                   20\n",
       "Cholesterol              45\n",
       "Colds & Flu             245\n",
       "Constipation             60\n",
       "Covid 19                 34\n",
       "Depression               51\n",
       "Diabetes (Type 1)        57\n",
       "Diabetes (Type 2)       104\n",
       "Diarrhea                 38\n",
       "Eczema                  122\n",
       "Erectile Dysfunction     13\n",
       "GERD (Heartburn)         77\n",
       "Gastrointestinal          7\n",
       "Gout                      9\n",
       "Hair Loss                11\n",
       "Hayfever                124\n",
       "Herpes                   10\n",
       "Hypertension            177\n",
       "Hypothyroidism           17\n",
       "IBD (Bowel)              22\n",
       "Incontinence             19\n",
       "Insomnia                 60\n",
       "Menopause                 7\n",
       "Migraine                 61\n",
       "Osteoarthritis          129\n",
       "Osteoporosis             56\n",
       "Pain                    264\n",
       "Pneumonia                72\n",
       "Psoriasis                93\n",
       "Rheumatoid Arthritis     33\n",
       "Schizophrenia            20\n",
       "Seizures                 50\n",
       "Stroke                    5\n",
       "Swine Flu                 5\n",
       "UTI                      46\n",
       "Weight Loss              23\n",
       "Name: count, dtype: int64"
      ]
     },
     "execution_count": 77,
     "metadata": {},
     "output_type": "execute_result"
    }
   ],
   "source": [
    "Data_3.groupby('medical_condition')['medical_condition'].value_counts()"
   ]
  },
  {
   "cell_type": "code",
   "execution_count": 78,
   "id": "d1e19901-af53-4345-b408-35d7ca72e44f",
   "metadata": {},
   "outputs": [],
   "source": [
    "def pre_cat(P_input):\n",
    "    if P_input in ['A','B','C','D','X','N']:\n",
    "        Preg_cat = Data_3.where(Data_3['pregnancy_category'] == P_input)\n",
    "        print(Preg_cat.groupby(['medical_condition','rx_otc','drug_classes','csa'])['medical_condition'].value_counts().sort_values(ascending = False))\n",
    "    else:\n",
    "        print(\"Error\")\n"
   ]
  },
  {
   "cell_type": "code",
   "execution_count": 79,
   "id": "971f0a4c-ae5a-498f-8bfe-4c27ce1bb6ea",
   "metadata": {},
   "outputs": [],
   "source": [
    "def csa(csa_input):\n",
    "    if csa_input in ['1','2','3','4','5','X','M','N']:\n",
    "        Preg_cat = Data_3.where(Data_3['csa'] == csa_input)\n",
    "        print (Preg_cat.groupby(['medical_condition','rx_otc','drug_classes','pregnancy_category'])['medical_condition'].value_counts().sort_values(ascending = False))\n",
    "    else:\n",
    "        print(\"Error\")"
   ]
  },
  {
   "cell_type": "code",
   "execution_count": 80,
   "id": "46464a25-f19f-4ffd-b0f1-17d36c005293",
   "metadata": {},
   "outputs": [
    {
     "name": "stdout",
     "output_type": "stream",
     "text": [
      "medical_condition  rx_otc  drug_classes                                 pregnancy_category\n",
      "ADHD               Rx      CNS stimulants                               C                     34\n",
      "Pain               Rx      Opioids (narcotic analgesics)                C                     28\n",
      "                                                                        N                     10\n",
      "                           Narcotic analgesic combinations              C                      9\n",
      "Colds & Flu        Rx      Upper respiratory combinations               C                      3\n",
      "ADHD               Rx      Anorexiants, CNS stimulants                  C                      2\n",
      "Pain               Rx      Narcotic analgesic combinations              B                      2\n",
      "                           Antitussives, Opioids (narcotic analgesics)  C                      1\n",
      "Diarrhea           Rx      Antitussives, Opioids (narcotic analgesics)  C                      1\n",
      "Insomnia           Rx      Barbiturates                                 D                      1\n",
      "Name: count, dtype: int64\n"
     ]
    }
   ],
   "source": [
    "csa(\"2\")"
   ]
  },
  {
   "cell_type": "code",
   "execution_count": 81,
   "id": "ac13bc9d-1a91-4553-9154-61bb0063660d",
   "metadata": {},
   "outputs": [
    {
     "name": "stdout",
     "output_type": "stream",
     "text": [
      "medical_condition  rx_otc  drug_classes   csa\n",
      "Hypothyroidism     Rx      Thyroid drugs  N      17\n",
      "Depression         Rx      Thyroid drugs  N       1\n",
      "Name: count, dtype: int64\n"
     ]
    }
   ],
   "source": [
    "pre_cat(\"A\")"
   ]
  },
  {
   "cell_type": "code",
   "execution_count": 82,
   "id": "bfdfa8b3-b64f-4a01-8052-4256e7519ca8",
   "metadata": {},
   "outputs": [],
   "source": [
    "pd.set_option('display.max_colwidth',None)\n"
   ]
  },
  {
   "cell_type": "code",
   "execution_count": 83,
   "id": "61f48554-5cbc-4af5-b0a6-53cbef30e72b",
   "metadata": {},
   "outputs": [
    {
     "data": {
      "text/plain": [
       "0                                                                                                                                                                                                                                                                                                                                                                   (hives, difficult breathing, swelling in your face or throat) or a severe skin reaction (fever, sore throat, burning in your eyes, skin pain, red or purple skin rash that spreads and causes blistering and peeling). Seek medical treatment if you have a serious drug reaction that can affect many parts of your body. Symptoms may include: skin rash, fever, swollen glands, flu-like symptoms, muscle aches, severe weakness, unusual bruising, or yellowing of your skin or eyes. This reaction may occur several weeks after you began using doxycycline. Doxycycline may cause serious side effects. Call your doctor at once if you have: severe stomach pain, diarrhea that is watery or bloody; throat irritation, trouble swallowing; chest pain, irregular heart rhythm, feeling short of breath; little or no urination; low white blood cell counts - fever, chills, swollen glands, body aches, weakness, pale skin, easy bruising or bleeding; severe headaches, ringing in your ears, dizziness, nausea, vision problems, pain behind your eyes; loss of appetite, upper stomach pain (that may spread to your back), tiredness, nausea or vomiting, fast heart rate, dark urine, jaundice (yellowing of the skin or eyes). Common side effects of doxycycline may include: nausea and vomiting; upset stomach; loss of appetite; mild diarrhea; skin rash or itching; darkened skin color; vaginal itching or discharge.\n",
       "1                                                                                                                                                                                                                                                                                                                                                                                                                                                                                                                                                                                                                                                                                                                                                                                                                                                                                                                                                                                                                                                                                                                                                                                                                       hives ; difficulty breathing; swelling of your face, lips, tongue, or throat. Call your doctor at once if you have: a light-headed feeling, like you might pass out; little or no urination; high potassium level - nausea , weakness, tingly feeling, chest pain, irregular heartbeats, loss of movement; o signs of other electrolyte imbalances - increased thirst or urination, confusion, vomiting , muscle pain, slurred speech, severe weakness, numbness , loss of coordination, feeling unsteady. Common spironolactone side effects may include: breast swelling or tenderness.\n",
       "2                                                                                                                                                                                                                                                                                                                                                                                                                        skin rash, fever, swollen glands, flu-like symptoms, muscle aches, severe weakness, unusual bruising, or yellowing of your skin or eyes. This may be more likely with long-term use of minocycline, and the reaction may occur several weeks after you began using this medicine. Call your doctor at once if you have: little or no urination, swelling in your feet or ankles, feeling tired or short of breath (signs of kidney problems); loss of appetite, upper stomach pain (that may spread to your back), nausea or vomiting, loss of appetite, easy bruising or bleeding, dark urine, yellowing of the skin or eyes (signs of liver or pancreas problems); joint pain or swelling with fever, swollen glands, muscle aches, chest pain, vomiting, unusual thoughts or behavior, and patchy skin color; severe headaches, ringing in your ears, dizziness, vision problems, pain behind your eyes; or swollen glands, flu symptoms, easy bruising or bleeding, severe tingling or numbness, muscle weakness, chest pain, new or worsening cough with fever, trouble breathing. Common minocycline side effects may include: numbness , tingling, burning pain; hair loss ; discoloration of you skin or nails. dizziness, spinning sensation; muscle or joint pain; nausea, diarrhea, loss of appetite; swollen tongue, cough, trouble swallowing; rash, itching; or headache .\n",
       "3                                                                                                                                                                                                                                                                                                                                                                                                                                                                                                                                                                                                                                                              problems with your vision or hearing; muscle or joint pain, bone pain, back pain; increased thirst, increased urination; hallucinations, (see or hearing things that are not real); symptoms of depression - unusual mood changes, crying spells, feelings of low self-worth, loss of interest in things you once enjoyed, new sleep problems, thoughts about hurting yourself; signs of liver or pancreas problems - loss of appetite, upper stomach pain (that may spread to your back), nausea or vomiting, fast heart rate , dark urine, jaundice (yellowing of the skin or eyes); severe stomach problems - severe stomach or chest pain, pain when swallowing, heartburn , diarrhea , rectal bleeding , bloody or tarry stools; or increased pressure inside the skull - severe headaches, ringing in your ears, dizziness, nausea, vision problems, pain behind your eyes. Common Accutane side effects may include: dryness of your skin, lips, eyes, or nose (you may have nosebleeds ); vision problems; headache, back pain , joint pain, muscle problems; skin reactions; or cold symptoms such as stuffy nose, sneezing, sore throat.\n",
       "4                                                                                                                                                                                                                                                                                                                                                                                                                                                                                                                                                                                                                                                                                                                                                                                                                                                                                                                                                                                                                                                                                                                                                                                                                                                                                            hives ; difficult breathing; swelling of your face, lips, tongue, or throat. Clindamycin topical may cause serious side effects. Stop using clindamycin topical and call your doctor at once if you have: severe redness, itching, or dryness of treated skin areas; or severe stomach pain, diarrhea that is watery or bloody (even if it occurs months after your last dose). Common side effects of clindamycin topical may include: burning, itching, dryness, peeling or redness of treated skin; or oily skin.\n",
       "                                                                                                                                                                                                                                                                                                                                                                                                                                                                                                                                                                                                                                                                                                                                                                                                                                                                                                          ...                                                                                                                                                                                                                                                                                                                                                                                                                                                                                                                                                                                                                                                                                                                                                                                                                                                                                                    \n",
       "2926                                                                                                                                                                                                                                                                                                                                                                                                                                                                                                                                                                                                                                                                                                                                                                                                                                                                                                                          hives ; difficulty breathing; swelling of your face, lips, tongue, or throat. Benzphetamine may cause serious side effects. Stop using benzphetamine and call your doctor at once if you have: shortness of breath (even with mild exertion), swelling, rapid weight gain; chest pain, feeling like you might pass out; pounding heartbeats or fluttering in your chest; confusion or irritability, unusual thoughts or behavior; or dangerously high blood pressure (severe headache , blurred vision, buzzing in your ears, anxiety , confusion, chest pain, shortness of breath, uneven heartbeats, seizure). Common side effects of benzphetamine may include: feeling restless or hyperactive; headache, dizziness , tremors; sleep problems ( insomnia ); increased sweating; dry mouth or an unpleasant taste in your mouth; nausea, diarrhea upset stomach ; or skin rash .\n",
       "2927    hives ; difficult breathing; swelling of your face, lips, tongue, or throat. Report any new or worsening symptoms to your doctor, such as: mood or behavior changes, anxiety , panic attacks , trouble sleeping, or if you feel impulsive, irritable, agitated, hostile, aggressive, restless, hyperactive (mentally or physically), more depressed, or have thoughts about suicide or hurting yourself. Fenfluramine can cause serious side effects on your heart and lungs. Call your doctor right away if you have: chest pain, pounding heartbeats or fluttering in your chest; shortness or breath; blue colored skin or lips; swelling in your lower legs; or unusual tiredness or weakness, feeling like you might pass out. Also call your doctor at once if you have: loss of appetite and weight loss; worsening seizures; blurred vision, tunnel vision, eye pain or redness, or seeing halos around lights; nausea or vomiting ; or increased blood pressure--severe headache , blurred vision, pounding in your neck or ears, anxiety, nosebleed. Seek medical attention right away if you have symptoms of serotonin syndrome, such as: agitation , hallucinations, fever, sweating, shivering, fast heart rate , muscle stiffness, twitching, loss of coordination, nausea, vomiting, or diarrhea . Fenfluramine can affect weight or growth in children. Tell your doctor if your child is not growing at a normal rate while using this medicine. Common side effects of fenfluramine may include: loss of appetite, vomiting, diarrhea, constipation ; seizures that do not stop; feeling weak or tired; fever, infections; abnormal heart function tests; problems with balance, walking, or muscle movement; drooling ; or cold symptoms such as stuffy nose, sneezing, sore throat .\n",
       "2928                                                                                                                                                                                                                                                                                                                                                                                                                                                                                                                                                                                                                                                                                                                                                                                                                                                                                                                                                                                                                                                                                                                                                                                                                                                                                                                                                                                                                                                                                                                                                                                                                                                                                                                                                                                                      Unknown\n",
       "2929                                                                                                                                            Imcivree may cause serious side effects, including: Male and female sexual function problems. Imcivree can cause an erection that happens without any sexual activity in males (spontaneous penile erection) and unwanted sexual reactions (changes in sexual arousal that happen without any sexual activity) in females. If you have an erection lasting longer than 4 hours, get emergency medical help right away. Depression and suicidal thoughts or actions. You or a caregiver should call your healthcare provider right away if you have any new or worsening symptoms of depression. Increased skin pigmentation and darkening of skin lesions (moles or nevi) you already have. These changes happen because of how Imcivree works in the body and will go away when you stop using Imcivree. You should have a full body skin exam before starting and during treatment to check for skin changes. Benzyl alcohol toxicity. Benzyl alcohol is a preservative in Imcivree. Benzyl alcohol can cause serious side effects, including death, in premature and low-birth weight infants, who have received medicines that contain benzyl alcohol. Imcivree should not be used in premature and low-birth weight infants. The most common side effects of include: injection site reactions darkening of the skin nausea vomiting headache erection that happens without any sexual activity in males diarrhea stomach pain. These are not all the possible side effects. Call your doctor for medical advice about side effects. You may report side effects to FDA at 1-800-FDA-1088 or Rhythm Pharmaceuticals at 1-833-789-6337. Imcivree side effects\n",
       "2930                                                                                                                                                                                                                                                                                                                                                                                                                                                                                                                                                                                                                                                                                                                                                                                                                                                                                                                                                                                                                                                                                                                                                hives ; difficult breathing; swelling of your face, lips, tongue, or throat. Some people have thoughts about suicide while using setmelanotide. Tell your doctor right away if you have any sudden changes in mood or behavior, or thoughts about suicide. Setmelanotide may cause serious side effects. Call your doctor at once if you have: an erection lasting longer than 4 hours. Common side effects of setmelanotide may include: bruising, swelling, warmth, redness, oozing, or bleeding where an injection was given; skin darkening; headache ; erection without any sexual activity in males; or nausea , vomiting , diarrhea , or stomach pain.\n",
       "Name: side_effects, Length: 2931, dtype: object"
      ]
     },
     "execution_count": 83,
     "metadata": {},
     "output_type": "execute_result"
    }
   ],
   "source": [
    "Data_3['side_effects']"
   ]
  },
  {
   "cell_type": "raw",
   "id": "00e07b21-c8d8-48f2-a4a4-f5d1d79bd102",
   "metadata": {},
   "source": []
  },
  {
   "cell_type": "code",
   "execution_count": 84,
   "id": "0e762c06-66f6-4073-b05d-e55ba6e972cd",
   "metadata": {},
   "outputs": [],
   "source": [
    "def has_urination(text):\n",
    "    return 'no urination' in text.lower()\n",
    "Data_3['no urination'] = Data_3['side_effects'].apply(has_urination)"
   ]
  },
  {
   "cell_type": "code",
   "execution_count": 85,
   "id": "f7b4acbd-3f49-4d27-879e-8b045d013dd3",
   "metadata": {},
   "outputs": [],
   "source": [
    "def has_jaundice(text):\n",
    "    return 'jaundice' in text.lower()\n",
    "Data_3['jaundice'] = Data_3['side_effects'].apply(has_jaundice)"
   ]
  },
  {
   "cell_type": "code",
   "execution_count": 86,
   "id": "1c18424b-94d0-44ab-96c4-e2dc5b933839",
   "metadata": {},
   "outputs": [],
   "source": [
    "def has_hallucinations(text):\n",
    "    return 'hallucinations' in text.lower()\n",
    "Data_3['hallucinations'] = Data_3['side_effects'].apply(has_hallucinations)"
   ]
  },
  {
   "cell_type": "code",
   "execution_count": null,
   "id": "22ab2ea3-7f4e-4be4-b6a8-50a9f86f6201",
   "metadata": {},
   "outputs": [],
   "source": []
  },
  {
   "cell_type": "code",
   "execution_count": null,
   "id": "b51124e5-1ef0-4eda-9d99-25553ed6a433",
   "metadata": {},
   "outputs": [],
   "source": []
  },
  {
   "cell_type": "code",
   "execution_count": 87,
   "id": "e1150207-0782-4ec9-b390-f5f570b0f708",
   "metadata": {},
   "outputs": [],
   "source": [
    "\n",
    "def has_anxiety(text):\n",
    "    return 'anxiety' in text.lower()\n",
    "Data_3['anxiety'] = Data_3['side_effects'].apply(has_anxiety)\n",
    "    "
   ]
  },
  {
   "cell_type": "code",
   "execution_count": 91,
   "id": "28e3737b-24a4-4cdc-97e0-fc42e408776d",
   "metadata": {},
   "outputs": [
    {
     "data": {
      "image/png": "[encoded data removed]",
      "text/plain": [
       "<Figure size 640x480 with 1 Axes>"
      ]
     },
     "metadata": {},
     "output_type": "display_data"
    }
   ],
   "source": [
    "Data_3['anxiety'].value_counts().plot(kind = 'pie')\n",
    "plt.title('Count of anxiety')\n",
    "plt.show()\n"
   ]
  },
  {
   "cell_type": "code",
   "execution_count": 92,
   "id": "9f969d6c-44d1-466c-bfde-bdde095afb2e",
   "metadata": {},
   "outputs": [
    {
     "data": {
      "image/png": "[encoded data removed]",
      "text/plain": [
       "<Figure size 640x480 with 1 Axes>"
      ]
     },
     "metadata": {},
     "output_type": "display_data"
    }
   ],
   "source": [
    "Data_3['anxiety'].value_counts().plot(kind = 'pie')\n",
    "plt.title('Count of anxiety')\n",
    "\n",
    "plt.show()\n"
   ]
  },
  {
   "cell_type": "code",
   "execution_count": 93,
   "id": "966c1571-47fa-4411-9b5f-ee1a7e650949",
   "metadata": {},
   "outputs": [
    {
     "data": {
      "image/png": "[encoded data removed]",
      "text/plain": [
       "<Figure size 640x480 with 1 Axes>"
      ]
     },
     "metadata": {},
     "output_type": "display_data"
    }
   ],
   "source": [
    "Data_3['jaundice'].value_counts().plot(kind = 'pie')\n",
    "plt.title('Count of jaundice')\n",
    "\n",
    "plt.show()\n"
   ]
  },
  {
   "cell_type": "code",
   "execution_count": 95,
   "id": "e502a52d-225d-4536-8697-b1dc353a1d70",
   "metadata": {},
   "outputs": [
    {
     "data": {
      "image/png": "[encoded data removed]",
      "text/plain": [
       "<Figure size 640x480 with 1 Axes>"
      ]
     },
     "metadata": {},
     "output_type": "display_data"
    }
   ],
   "source": [
    "\n",
    "Data_3['hallucinations'].value_counts().plot(kind = 'pie')\n",
    "plt.title('Count of  hallucinations')\n",
    "\n",
    "plt.show()\n"
   ]
  },
  {
   "cell_type": "code",
   "execution_count": 96,
   "id": "6ebc5ee7-dc05-4d24-948a-01e504c64544",
   "metadata": {},
   "outputs": [
    {
     "data": {
      "image/png": "[encoded data removed]",
      "text/plain": [
       "<Figure size 1200x700 with 1 Axes>"
      ]
     },
     "metadata": {},
     "output_type": "display_data"
    }
   ],
   "source": [
    "\n",
    "plt.figure(figsize = (12,7))\n",
    "\n",
    "cx = sns.histplot(data = Data_3, x = 'pregnancy_category' , color = 'blue',edgecolor = 'black', alpha = 0.5)\n",
    "for bar in cx.patches:\n",
    "    height = bar.get_height()\n",
    "    cx.text(bar.get_x() + bar.get_width()/2, height + 0.1, int(height),\n",
    "            ha='center', va='bottom', fontsize=10, color='black')\n",
    "plt.title (\"pregnancy_categor\")\n",
    "plt.xlabel(\"CSA\")\n",
    "plt.ylabel(\"Count of People\")\n",
    "plt.show()"
   ]
  },
  {
   "cell_type": "code",
   "execution_count": 75,
   "id": "0a873cde-c46d-41dc-82b3-7101b5993cda",
   "metadata": {},
   "outputs": [
    {
     "data": {
      "image/png": "[encoded data removed]",
      "text/plain": [
       "<Figure size 1200x700 with 1 Axes>"
      ]
     },
     "metadata": {},
     "output_type": "display_data"
    }
   ],
   "source": [
    "\n",
    "plt.figure(figsize = (12,7))\n",
    "\n",
    "bx = sns.histplot(data = Data_3, x = 'csa' , color = 'blue',edgecolor = 'black', alpha = 0.5)\n",
    "for bar in bx.patches:\n",
    "    height = bar.get_height()\n",
    "    bx.text(bar.get_x() + bar.get_width()/2, height + 0.1, int(height),\n",
    "            ha='center', va='bottom', fontsize=10, color='black')\n",
    "plt.title (\"Count of CSA\")\n",
    "plt.xlabel(\"CSA\")\n",
    "plt.ylabel(\"Count of People\")\n",
    "plt.show()"
   ]
  },
  {
   "cell_type": "code",
   "execution_count": 76,
   "id": "a9f4e486-5176-4817-ba86-e92617a17325",
   "metadata": {},
   "outputs": [
    {
     "data": {
      "text/html": [
       "<div>\n",
       "<style scoped>\n",
       "    .dataframe tbody tr th:only-of-type {\n",
       "        vertical-align: middle;\n",
       "    }\n",
       "\n",
       "    .dataframe tbody tr th {\n",
       "        vertical-align: top;\n",
       "    }\n",
       "\n",
       "    .dataframe thead th {\n",
       "        text-align: right;\n",
       "    }\n",
       "</style>\n",
       "<table border=\"1\" class=\"dataframe\">\n",
       "  <thead>\n",
       "    <tr style=\"text-align: right;\">\n",
       "      <th></th>\n",
       "      <th>drug_name</th>\n",
       "      <th>medical_condition</th>\n",
       "      <th>side_effects</th>\n",
       "      <th>generic_name</th>\n",
       "      <th>drug_classes</th>\n",
       "      <th>brand_names</th>\n",
       "      <th>activity</th>\n",
       "      <th>rx_otc</th>\n",
       "      <th>pregnancy_category</th>\n",
       "      <th>csa</th>\n",
       "      <th>...</th>\n",
       "      <th>medical_condition_url</th>\n",
       "      <th>Hives</th>\n",
       "      <th>Difficult Breathing</th>\n",
       "      <th>Itching</th>\n",
       "      <th>Colds &amp; Flu</th>\n",
       "      <th>Acne</th>\n",
       "      <th>no urination</th>\n",
       "      <th>jaundice</th>\n",
       "      <th>hallucinations</th>\n",
       "      <th>anxiety</th>\n",
       "    </tr>\n",
       "  </thead>\n",
       "  <tbody>\n",
       "    <tr>\n",
       "      <th>0</th>\n",
       "      <td>doxycycline</td>\n",
       "      <td>Acne</td>\n",
       "      <td>(hives, difficult breathing, swelling in your face or throat) or a severe skin reaction (fever, sore throat, burning in your eyes, skin pain, red or purple skin rash that spreads and causes blistering and peeling). Seek medical treatment if you have a serious drug reaction that can affect many parts of your body. Symptoms may include: skin rash, fever, swollen glands, flu-like symptoms, muscle aches, severe weakness, unusual bruising, or yellowing of your skin or eyes. This reaction may occur several weeks after you began using doxycycline. Doxycycline may cause serious side effects. Call your doctor at once if you have: severe stomach pain, diarrhea that is watery or bloody; throat irritation, trouble swallowing; chest pain, irregular heart rhythm, feeling short of breath; little or no urination; low white blood cell counts - fever, chills, swollen glands, body aches, weakness, pale skin, easy bruising or bleeding; severe headaches, ringing in your ears, dizziness, nausea, vision problems, pain behind your eyes; loss of appetite, upper stomach pain (that may spread to your back), tiredness, nausea or vomiting, fast heart rate, dark urine, jaundice (yellowing of the skin or eyes). Common side effects of doxycycline may include: nausea and vomiting; upset stomach; loss of appetite; mild diarrhea; skin rash or itching; darkened skin color; vaginal itching or discharge.</td>\n",
       "      <td>doxycycline</td>\n",
       "      <td>Miscellaneous antimalarials, Tetracyclines</td>\n",
       "      <td>Acticlate, Adoxa CK, Adoxa Pak, Adoxa TT, Alodox, Avidoxy, Doryx, Mondoxyne NL, Monodox, Morgidox, Okebo, Oracea, Oraxyl, Periostat Targadox, Vibramycin calcium, Vibramycin Hyclate, Vibramycin monohydrate, Vibra-Tabs</td>\n",
       "      <td>87.0</td>\n",
       "      <td>Rx</td>\n",
       "      <td>D</td>\n",
       "      <td>N</td>\n",
       "      <td>...</td>\n",
       "      <td>https://www.drugs.com/condition/acne.html</td>\n",
       "      <td>True</td>\n",
       "      <td>True</td>\n",
       "      <td>True</td>\n",
       "      <td>False</td>\n",
       "      <td>True</td>\n",
       "      <td>True</td>\n",
       "      <td>True</td>\n",
       "      <td>False</td>\n",
       "      <td>False</td>\n",
       "    </tr>\n",
       "    <tr>\n",
       "      <th>1</th>\n",
       "      <td>spironolactone</td>\n",
       "      <td>Acne</td>\n",
       "      <td>hives ; difficulty breathing; swelling of your face, lips, tongue, or throat. Call your doctor at once if you have: a light-headed feeling, like you might pass out; little or no urination; high potassium level - nausea , weakness, tingly feeling, chest pain, irregular heartbeats, loss of movement; o signs of other electrolyte imbalances - increased thirst or urination, confusion, vomiting , muscle pain, slurred speech, severe weakness, numbness , loss of coordination, feeling unsteady. Common spironolactone side effects may include: breast swelling or tenderness.</td>\n",
       "      <td>spironolactone</td>\n",
       "      <td>Aldosterone receptor antagonists, Potassium-sparing diuretics</td>\n",
       "      <td>Aldactone, CaroSpir</td>\n",
       "      <td>82.0</td>\n",
       "      <td>Rx</td>\n",
       "      <td>C</td>\n",
       "      <td>N</td>\n",
       "      <td>...</td>\n",
       "      <td>https://www.drugs.com/condition/acne.html</td>\n",
       "      <td>True</td>\n",
       "      <td>True</td>\n",
       "      <td>False</td>\n",
       "      <td>False</td>\n",
       "      <td>True</td>\n",
       "      <td>True</td>\n",
       "      <td>False</td>\n",
       "      <td>False</td>\n",
       "      <td>False</td>\n",
       "    </tr>\n",
       "    <tr>\n",
       "      <th>2</th>\n",
       "      <td>minocycline</td>\n",
       "      <td>Acne</td>\n",
       "      <td>skin rash, fever, swollen glands, flu-like symptoms, muscle aches, severe weakness, unusual bruising, or yellowing of your skin or eyes. This may be more likely with long-term use of minocycline, and the reaction may occur several weeks after you began using this medicine. Call your doctor at once if you have: little or no urination, swelling in your feet or ankles, feeling tired or short of breath (signs of kidney problems); loss of appetite, upper stomach pain (that may spread to your back), nausea or vomiting, loss of appetite, easy bruising or bleeding, dark urine, yellowing of the skin or eyes (signs of liver or pancreas problems); joint pain or swelling with fever, swollen glands, muscle aches, chest pain, vomiting, unusual thoughts or behavior, and patchy skin color; severe headaches, ringing in your ears, dizziness, vision problems, pain behind your eyes; or swollen glands, flu symptoms, easy bruising or bleeding, severe tingling or numbness, muscle weakness, chest pain, new or worsening cough with fever, trouble breathing. Common minocycline side effects may include: numbness , tingling, burning pain; hair loss ; discoloration of you skin or nails. dizziness, spinning sensation; muscle or joint pain; nausea, diarrhea, loss of appetite; swollen tongue, cough, trouble swallowing; rash, itching; or headache .</td>\n",
       "      <td>minocycline</td>\n",
       "      <td>Tetracyclines</td>\n",
       "      <td>Dynacin, Minocin, Minolira, Solodyn, Ximino, Vectrin, Myrac</td>\n",
       "      <td>48.0</td>\n",
       "      <td>Rx</td>\n",
       "      <td>D</td>\n",
       "      <td>N</td>\n",
       "      <td>...</td>\n",
       "      <td>https://www.drugs.com/condition/acne.html</td>\n",
       "      <td>False</td>\n",
       "      <td>False</td>\n",
       "      <td>True</td>\n",
       "      <td>False</td>\n",
       "      <td>True</td>\n",
       "      <td>True</td>\n",
       "      <td>False</td>\n",
       "      <td>False</td>\n",
       "      <td>False</td>\n",
       "    </tr>\n",
       "    <tr>\n",
       "      <th>3</th>\n",
       "      <td>Accutane</td>\n",
       "      <td>Acne</td>\n",
       "      <td>problems with your vision or hearing; muscle or joint pain, bone pain, back pain; increased thirst, increased urination; hallucinations, (see or hearing things that are not real); symptoms of depression - unusual mood changes, crying spells, feelings of low self-worth, loss of interest in things you once enjoyed, new sleep problems, thoughts about hurting yourself; signs of liver or pancreas problems - loss of appetite, upper stomach pain (that may spread to your back), nausea or vomiting, fast heart rate , dark urine, jaundice (yellowing of the skin or eyes); severe stomach problems - severe stomach or chest pain, pain when swallowing, heartburn , diarrhea , rectal bleeding , bloody or tarry stools; or increased pressure inside the skull - severe headaches, ringing in your ears, dizziness, nausea, vision problems, pain behind your eyes. Common Accutane side effects may include: dryness of your skin, lips, eyes, or nose (you may have nosebleeds ); vision problems; headache, back pain , joint pain, muscle problems; skin reactions; or cold symptoms such as stuffy nose, sneezing, sore throat.</td>\n",
       "      <td>isotretinoin (oral)</td>\n",
       "      <td>Miscellaneous antineoplastics, Miscellaneous uncategorized agents</td>\n",
       "      <td>NaN</td>\n",
       "      <td>41.0</td>\n",
       "      <td>Rx</td>\n",
       "      <td>X</td>\n",
       "      <td>N</td>\n",
       "      <td>...</td>\n",
       "      <td>https://www.drugs.com/condition/acne.html</td>\n",
       "      <td>False</td>\n",
       "      <td>False</td>\n",
       "      <td>False</td>\n",
       "      <td>False</td>\n",
       "      <td>True</td>\n",
       "      <td>False</td>\n",
       "      <td>True</td>\n",
       "      <td>True</td>\n",
       "      <td>False</td>\n",
       "    </tr>\n",
       "    <tr>\n",
       "      <th>4</th>\n",
       "      <td>clindamycin</td>\n",
       "      <td>Acne</td>\n",
       "      <td>hives ; difficult breathing; swelling of your face, lips, tongue, or throat. Clindamycin topical may cause serious side effects. Stop using clindamycin topical and call your doctor at once if you have: severe redness, itching, or dryness of treated skin areas; or severe stomach pain, diarrhea that is watery or bloody (even if it occurs months after your last dose). Common side effects of clindamycin topical may include: burning, itching, dryness, peeling or redness of treated skin; or oily skin.</td>\n",
       "      <td>clindamycin topical</td>\n",
       "      <td>Topical acne agents, Vaginal anti-infectives</td>\n",
       "      <td>Cleocin T, Clindacin ETZ, Clindacin P, Clindagel, Evoclin</td>\n",
       "      <td>39.0</td>\n",
       "      <td>Rx</td>\n",
       "      <td>B</td>\n",
       "      <td>N</td>\n",
       "      <td>...</td>\n",
       "      <td>https://www.drugs.com/condition/acne.html</td>\n",
       "      <td>True</td>\n",
       "      <td>True</td>\n",
       "      <td>True</td>\n",
       "      <td>False</td>\n",
       "      <td>True</td>\n",
       "      <td>False</td>\n",
       "      <td>False</td>\n",
       "      <td>False</td>\n",
       "      <td>False</td>\n",
       "    </tr>\n",
       "    <tr>\n",
       "      <th>...</th>\n",
       "      <td>...</td>\n",
       "      <td>...</td>\n",
       "      <td>...</td>\n",
       "      <td>...</td>\n",
       "      <td>...</td>\n",
       "      <td>...</td>\n",
       "      <td>...</td>\n",
       "      <td>...</td>\n",
       "      <td>...</td>\n",
       "      <td>...</td>\n",
       "      <td>...</td>\n",
       "      <td>...</td>\n",
       "      <td>...</td>\n",
       "      <td>...</td>\n",
       "      <td>...</td>\n",
       "      <td>...</td>\n",
       "      <td>...</td>\n",
       "      <td>...</td>\n",
       "      <td>...</td>\n",
       "      <td>...</td>\n",
       "      <td>...</td>\n",
       "    </tr>\n",
       "    <tr>\n",
       "      <th>2926</th>\n",
       "      <td>benzphetamine</td>\n",
       "      <td>Weight Loss</td>\n",
       "      <td>hives ; difficulty breathing; swelling of your face, lips, tongue, or throat. Benzphetamine may cause serious side effects. Stop using benzphetamine and call your doctor at once if you have: shortness of breath (even with mild exertion), swelling, rapid weight gain; chest pain, feeling like you might pass out; pounding heartbeats or fluttering in your chest; confusion or irritability, unusual thoughts or behavior; or dangerously high blood pressure (severe headache , blurred vision, buzzing in your ears, anxiety , confusion, chest pain, shortness of breath, uneven heartbeats, seizure). Common side effects of benzphetamine may include: feeling restless or hyperactive; headache, dizziness , tremors; sleep problems ( insomnia ); increased sweating; dry mouth or an unpleasant taste in your mouth; nausea, diarrhea upset stomach ; or skin rash .</td>\n",
       "      <td>benzphetamine</td>\n",
       "      <td>Anorexiants, CNS stimulants</td>\n",
       "      <td>Didrex, Regimex</td>\n",
       "      <td>2.0</td>\n",
       "      <td>Rx</td>\n",
       "      <td>X</td>\n",
       "      <td>3</td>\n",
       "      <td>...</td>\n",
       "      <td>https://www.drugs.com/condition/obesity.html</td>\n",
       "      <td>True</td>\n",
       "      <td>True</td>\n",
       "      <td>False</td>\n",
       "      <td>False</td>\n",
       "      <td>False</td>\n",
       "      <td>False</td>\n",
       "      <td>False</td>\n",
       "      <td>False</td>\n",
       "      <td>True</td>\n",
       "    </tr>\n",
       "    <tr>\n",
       "      <th>2927</th>\n",
       "      <td>fenfluramine</td>\n",
       "      <td>Weight Loss</td>\n",
       "      <td>hives ; difficult breathing; swelling of your face, lips, tongue, or throat. Report any new or worsening symptoms to your doctor, such as: mood or behavior changes, anxiety , panic attacks , trouble sleeping, or if you feel impulsive, irritable, agitated, hostile, aggressive, restless, hyperactive (mentally or physically), more depressed, or have thoughts about suicide or hurting yourself. Fenfluramine can cause serious side effects on your heart and lungs. Call your doctor right away if you have: chest pain, pounding heartbeats or fluttering in your chest; shortness or breath; blue colored skin or lips; swelling in your lower legs; or unusual tiredness or weakness, feeling like you might pass out. Also call your doctor at once if you have: loss of appetite and weight loss; worsening seizures; blurred vision, tunnel vision, eye pain or redness, or seeing halos around lights; nausea or vomiting ; or increased blood pressure--severe headache , blurred vision, pounding in your neck or ears, anxiety, nosebleed. Seek medical attention right away if you have symptoms of serotonin syndrome, such as: agitation , hallucinations, fever, sweating, shivering, fast heart rate , muscle stiffness, twitching, loss of coordination, nausea, vomiting, or diarrhea . Fenfluramine can affect weight or growth in children. Tell your doctor if your child is not growing at a normal rate while using this medicine. Common side effects of fenfluramine may include: loss of appetite, vomiting, diarrhea, constipation ; seizures that do not stop; feeling weak or tired; fever, infections; abnormal heart function tests; problems with balance, walking, or muscle movement; drooling ; or cold symptoms such as stuffy nose, sneezing, sore throat .</td>\n",
       "      <td>fenfluramine</td>\n",
       "      <td>Anorexiants, CNS stimulants, Miscellaneous anticonvulsants</td>\n",
       "      <td>Fintepla</td>\n",
       "      <td>1.0</td>\n",
       "      <td>Rx</td>\n",
       "      <td>C</td>\n",
       "      <td>4</td>\n",
       "      <td>...</td>\n",
       "      <td>https://www.drugs.com/condition/obesity.html</td>\n",
       "      <td>True</td>\n",
       "      <td>True</td>\n",
       "      <td>True</td>\n",
       "      <td>False</td>\n",
       "      <td>False</td>\n",
       "      <td>False</td>\n",
       "      <td>False</td>\n",
       "      <td>True</td>\n",
       "      <td>True</td>\n",
       "    </tr>\n",
       "    <tr>\n",
       "      <th>2928</th>\n",
       "      <td>Fendique ER</td>\n",
       "      <td>Weight Loss</td>\n",
       "      <td>Unknown</td>\n",
       "      <td>phendimetrazine tartrate</td>\n",
       "      <td>Anorexiants, CNS stimulants</td>\n",
       "      <td>NaN</td>\n",
       "      <td>0.0</td>\n",
       "      <td>Rx</td>\n",
       "      <td>C</td>\n",
       "      <td>3</td>\n",
       "      <td>...</td>\n",
       "      <td>https://www.drugs.com/condition/obesity.html</td>\n",
       "      <td>False</td>\n",
       "      <td>False</td>\n",
       "      <td>False</td>\n",
       "      <td>False</td>\n",
       "      <td>False</td>\n",
       "      <td>False</td>\n",
       "      <td>False</td>\n",
       "      <td>False</td>\n",
       "      <td>False</td>\n",
       "    </tr>\n",
       "    <tr>\n",
       "      <th>2929</th>\n",
       "      <td>Imcivree</td>\n",
       "      <td>Weight Loss</td>\n",
       "      <td>Imcivree may cause serious side effects, including: Male and female sexual function problems. Imcivree can cause an erection that happens without any sexual activity in males (spontaneous penile erection) and unwanted sexual reactions (changes in sexual arousal that happen without any sexual activity) in females. If you have an erection lasting longer than 4 hours, get emergency medical help right away. Depression and suicidal thoughts or actions. You or a caregiver should call your healthcare provider right away if you have any new or worsening symptoms of depression. Increased skin pigmentation and darkening of skin lesions (moles or nevi) you already have. These changes happen because of how Imcivree works in the body and will go away when you stop using Imcivree. You should have a full body skin exam before starting and during treatment to check for skin changes. Benzyl alcohol toxicity. Benzyl alcohol is a preservative in Imcivree. Benzyl alcohol can cause serious side effects, including death, in premature and low-birth weight infants, who have received medicines that contain benzyl alcohol. Imcivree should not be used in premature and low-birth weight infants. The most common side effects of include: injection site reactions darkening of the skin nausea vomiting headache erection that happens without any sexual activity in males diarrhea stomach pain. These are not all the possible side effects. Call your doctor for medical advice about side effects. You may report side effects to FDA at 1-800-FDA-1088 or Rhythm Pharmaceuticals at 1-833-789-6337. Imcivree side effects</td>\n",
       "      <td>setmelanotide</td>\n",
       "      <td>Melanocortin receptor agonists</td>\n",
       "      <td>NaN</td>\n",
       "      <td>0.0</td>\n",
       "      <td>Rx</td>\n",
       "      <td>NaN</td>\n",
       "      <td>N</td>\n",
       "      <td>...</td>\n",
       "      <td>https://www.drugs.com/condition/obesity.html</td>\n",
       "      <td>False</td>\n",
       "      <td>False</td>\n",
       "      <td>False</td>\n",
       "      <td>False</td>\n",
       "      <td>False</td>\n",
       "      <td>False</td>\n",
       "      <td>False</td>\n",
       "      <td>False</td>\n",
       "      <td>False</td>\n",
       "    </tr>\n",
       "    <tr>\n",
       "      <th>2930</th>\n",
       "      <td>setmelanotide</td>\n",
       "      <td>Weight Loss</td>\n",
       "      <td>hives ; difficult breathing; swelling of your face, lips, tongue, or throat. Some people have thoughts about suicide while using setmelanotide. Tell your doctor right away if you have any sudden changes in mood or behavior, or thoughts about suicide. Setmelanotide may cause serious side effects. Call your doctor at once if you have: an erection lasting longer than 4 hours. Common side effects of setmelanotide may include: bruising, swelling, warmth, redness, oozing, or bleeding where an injection was given; skin darkening; headache ; erection without any sexual activity in males; or nausea , vomiting , diarrhea , or stomach pain.</td>\n",
       "      <td>setmelanotide</td>\n",
       "      <td>Melanocortin receptor agonists</td>\n",
       "      <td>Imcivree</td>\n",
       "      <td>0.0</td>\n",
       "      <td>Rx</td>\n",
       "      <td>NaN</td>\n",
       "      <td>N</td>\n",
       "      <td>...</td>\n",
       "      <td>https://www.drugs.com/condition/obesity.html</td>\n",
       "      <td>True</td>\n",
       "      <td>True</td>\n",
       "      <td>False</td>\n",
       "      <td>False</td>\n",
       "      <td>False</td>\n",
       "      <td>False</td>\n",
       "      <td>False</td>\n",
       "      <td>False</td>\n",
       "      <td>False</td>\n",
       "    </tr>\n",
       "  </tbody>\n",
       "</table>\n",
       "<p>2931 rows × 26 columns</p>\n",
       "</div>"
      ],
      "text/plain": [
       "           drug_name medical_condition  \\\n",
       "0        doxycycline              Acne   \n",
       "1     spironolactone              Acne   \n",
       "2        minocycline              Acne   \n",
       "3           Accutane              Acne   \n",
       "4        clindamycin              Acne   \n",
       "...              ...               ...   \n",
       "2926   benzphetamine       Weight Loss   \n",
       "2927    fenfluramine       Weight Loss   \n",
       "2928     Fendique ER       Weight Loss   \n",
       "2929        Imcivree       Weight Loss   \n",
       "2930   setmelanotide       Weight Loss   \n",
       "\n",
       "                                                                                                                                                                                                                                                                                                                                                                                                                                                                                                                                                                                                                                                                                                                                                                                                                                                                                                                                                                                                                                                                                                                                                                                                                                                                                                                                                                                                                                                                                                                                                                                                                                                                                                                                                                                                   side_effects  \\\n",
       "0                                                                                                                                                                                                                                                                                                                                                                 (hives, difficult breathing, swelling in your face or throat) or a severe skin reaction (fever, sore throat, burning in your eyes, skin pain, red or purple skin rash that spreads and causes blistering and peeling). Seek medical treatment if you have a serious drug reaction that can affect many parts of your body. Symptoms may include: skin rash, fever, swollen glands, flu-like symptoms, muscle aches, severe weakness, unusual bruising, or yellowing of your skin or eyes. This reaction may occur several weeks after you began using doxycycline. Doxycycline may cause serious side effects. Call your doctor at once if you have: severe stomach pain, diarrhea that is watery or bloody; throat irritation, trouble swallowing; chest pain, irregular heart rhythm, feeling short of breath; little or no urination; low white blood cell counts - fever, chills, swollen glands, body aches, weakness, pale skin, easy bruising or bleeding; severe headaches, ringing in your ears, dizziness, nausea, vision problems, pain behind your eyes; loss of appetite, upper stomach pain (that may spread to your back), tiredness, nausea or vomiting, fast heart rate, dark urine, jaundice (yellowing of the skin or eyes). Common side effects of doxycycline may include: nausea and vomiting; upset stomach; loss of appetite; mild diarrhea; skin rash or itching; darkened skin color; vaginal itching or discharge.   \n",
       "1                                                                                                                                                                                                                                                                                                                                                                                                                                                                                                                                                                                                                                                                                                                                                                                                                                                                                                                                                                                                                                                                                                                                                                                                                     hives ; difficulty breathing; swelling of your face, lips, tongue, or throat. Call your doctor at once if you have: a light-headed feeling, like you might pass out; little or no urination; high potassium level - nausea , weakness, tingly feeling, chest pain, irregular heartbeats, loss of movement; o signs of other electrolyte imbalances - increased thirst or urination, confusion, vomiting , muscle pain, slurred speech, severe weakness, numbness , loss of coordination, feeling unsteady. Common spironolactone side effects may include: breast swelling or tenderness.   \n",
       "2                                                                                                                                                                                                                                                                                                                                                                                                                      skin rash, fever, swollen glands, flu-like symptoms, muscle aches, severe weakness, unusual bruising, or yellowing of your skin or eyes. This may be more likely with long-term use of minocycline, and the reaction may occur several weeks after you began using this medicine. Call your doctor at once if you have: little or no urination, swelling in your feet or ankles, feeling tired or short of breath (signs of kidney problems); loss of appetite, upper stomach pain (that may spread to your back), nausea or vomiting, loss of appetite, easy bruising or bleeding, dark urine, yellowing of the skin or eyes (signs of liver or pancreas problems); joint pain or swelling with fever, swollen glands, muscle aches, chest pain, vomiting, unusual thoughts or behavior, and patchy skin color; severe headaches, ringing in your ears, dizziness, vision problems, pain behind your eyes; or swollen glands, flu symptoms, easy bruising or bleeding, severe tingling or numbness, muscle weakness, chest pain, new or worsening cough with fever, trouble breathing. Common minocycline side effects may include: numbness , tingling, burning pain; hair loss ; discoloration of you skin or nails. dizziness, spinning sensation; muscle or joint pain; nausea, diarrhea, loss of appetite; swollen tongue, cough, trouble swallowing; rash, itching; or headache .   \n",
       "3                                                                                                                                                                                                                                                                                                                                                                                                                                                                                                                                                                                                                                                            problems with your vision or hearing; muscle or joint pain, bone pain, back pain; increased thirst, increased urination; hallucinations, (see or hearing things that are not real); symptoms of depression - unusual mood changes, crying spells, feelings of low self-worth, loss of interest in things you once enjoyed, new sleep problems, thoughts about hurting yourself; signs of liver or pancreas problems - loss of appetite, upper stomach pain (that may spread to your back), nausea or vomiting, fast heart rate , dark urine, jaundice (yellowing of the skin or eyes); severe stomach problems - severe stomach or chest pain, pain when swallowing, heartburn , diarrhea , rectal bleeding , bloody or tarry stools; or increased pressure inside the skull - severe headaches, ringing in your ears, dizziness, nausea, vision problems, pain behind your eyes. Common Accutane side effects may include: dryness of your skin, lips, eyes, or nose (you may have nosebleeds ); vision problems; headache, back pain , joint pain, muscle problems; skin reactions; or cold symptoms such as stuffy nose, sneezing, sore throat.   \n",
       "4                                                                                                                                                                                                                                                                                                                                                                                                                                                                                                                                                                                                                                                                                                                                                                                                                                                                                                                                                                                                                                                                                                                                                                                                                                                                                          hives ; difficult breathing; swelling of your face, lips, tongue, or throat. Clindamycin topical may cause serious side effects. Stop using clindamycin topical and call your doctor at once if you have: severe redness, itching, or dryness of treated skin areas; or severe stomach pain, diarrhea that is watery or bloody (even if it occurs months after your last dose). Common side effects of clindamycin topical may include: burning, itching, dryness, peeling or redness of treated skin; or oily skin.   \n",
       "...                                                                                                                                                                                                                                                                                                                                                                                                                                                                                                                                                                                                                                                                                                                                                                                                                                                                                                                                                                                                                                                                                                                                                                                                                                                                                                                                                                                                                                                                                                                                                                                                                                                                                                                                                                                                         ...   \n",
       "2926                                                                                                                                                                                                                                                                                                                                                                                                                                                                                                                                                                                                                                                                                                                                                                                                                                                                                                                        hives ; difficulty breathing; swelling of your face, lips, tongue, or throat. Benzphetamine may cause serious side effects. Stop using benzphetamine and call your doctor at once if you have: shortness of breath (even with mild exertion), swelling, rapid weight gain; chest pain, feeling like you might pass out; pounding heartbeats or fluttering in your chest; confusion or irritability, unusual thoughts or behavior; or dangerously high blood pressure (severe headache , blurred vision, buzzing in your ears, anxiety , confusion, chest pain, shortness of breath, uneven heartbeats, seizure). Common side effects of benzphetamine may include: feeling restless or hyperactive; headache, dizziness , tremors; sleep problems ( insomnia ); increased sweating; dry mouth or an unpleasant taste in your mouth; nausea, diarrhea upset stomach ; or skin rash .   \n",
       "2927  hives ; difficult breathing; swelling of your face, lips, tongue, or throat. Report any new or worsening symptoms to your doctor, such as: mood or behavior changes, anxiety , panic attacks , trouble sleeping, or if you feel impulsive, irritable, agitated, hostile, aggressive, restless, hyperactive (mentally or physically), more depressed, or have thoughts about suicide or hurting yourself. Fenfluramine can cause serious side effects on your heart and lungs. Call your doctor right away if you have: chest pain, pounding heartbeats or fluttering in your chest; shortness or breath; blue colored skin or lips; swelling in your lower legs; or unusual tiredness or weakness, feeling like you might pass out. Also call your doctor at once if you have: loss of appetite and weight loss; worsening seizures; blurred vision, tunnel vision, eye pain or redness, or seeing halos around lights; nausea or vomiting ; or increased blood pressure--severe headache , blurred vision, pounding in your neck or ears, anxiety, nosebleed. Seek medical attention right away if you have symptoms of serotonin syndrome, such as: agitation , hallucinations, fever, sweating, shivering, fast heart rate , muscle stiffness, twitching, loss of coordination, nausea, vomiting, or diarrhea . Fenfluramine can affect weight or growth in children. Tell your doctor if your child is not growing at a normal rate while using this medicine. Common side effects of fenfluramine may include: loss of appetite, vomiting, diarrhea, constipation ; seizures that do not stop; feeling weak or tired; fever, infections; abnormal heart function tests; problems with balance, walking, or muscle movement; drooling ; or cold symptoms such as stuffy nose, sneezing, sore throat .   \n",
       "2928                                                                                                                                                                                                                                                                                                                                                                                                                                                                                                                                                                                                                                                                                                                                                                                                                                                                                                                                                                                                                                                                                                                                                                                                                                                                                                                                                                                                                                                                                                                                                                                                                                                                                                                                                                                                    Unknown   \n",
       "2929                                                                                                                                          Imcivree may cause serious side effects, including: Male and female sexual function problems. Imcivree can cause an erection that happens without any sexual activity in males (spontaneous penile erection) and unwanted sexual reactions (changes in sexual arousal that happen without any sexual activity) in females. If you have an erection lasting longer than 4 hours, get emergency medical help right away. Depression and suicidal thoughts or actions. You or a caregiver should call your healthcare provider right away if you have any new or worsening symptoms of depression. Increased skin pigmentation and darkening of skin lesions (moles or nevi) you already have. These changes happen because of how Imcivree works in the body and will go away when you stop using Imcivree. You should have a full body skin exam before starting and during treatment to check for skin changes. Benzyl alcohol toxicity. Benzyl alcohol is a preservative in Imcivree. Benzyl alcohol can cause serious side effects, including death, in premature and low-birth weight infants, who have received medicines that contain benzyl alcohol. Imcivree should not be used in premature and low-birth weight infants. The most common side effects of include: injection site reactions darkening of the skin nausea vomiting headache erection that happens without any sexual activity in males diarrhea stomach pain. These are not all the possible side effects. Call your doctor for medical advice about side effects. You may report side effects to FDA at 1-800-FDA-1088 or Rhythm Pharmaceuticals at 1-833-789-6337. Imcivree side effects   \n",
       "2930                                                                                                                                                                                                                                                                                                                                                                                                                                                                                                                                                                                                                                                                                                                                                                                                                                                                                                                                                                                                                                                                                                                                              hives ; difficult breathing; swelling of your face, lips, tongue, or throat. Some people have thoughts about suicide while using setmelanotide. Tell your doctor right away if you have any sudden changes in mood or behavior, or thoughts about suicide. Setmelanotide may cause serious side effects. Call your doctor at once if you have: an erection lasting longer than 4 hours. Common side effects of setmelanotide may include: bruising, swelling, warmth, redness, oozing, or bleeding where an injection was given; skin darkening; headache ; erection without any sexual activity in males; or nausea , vomiting , diarrhea , or stomach pain.   \n",
       "\n",
       "                  generic_name  \\\n",
       "0                  doxycycline   \n",
       "1               spironolactone   \n",
       "2                  minocycline   \n",
       "3          isotretinoin (oral)   \n",
       "4          clindamycin topical   \n",
       "...                        ...   \n",
       "2926             benzphetamine   \n",
       "2927              fenfluramine   \n",
       "2928  phendimetrazine tartrate   \n",
       "2929             setmelanotide   \n",
       "2930             setmelanotide   \n",
       "\n",
       "                                                           drug_classes  \\\n",
       "0                            Miscellaneous antimalarials, Tetracyclines   \n",
       "1         Aldosterone receptor antagonists, Potassium-sparing diuretics   \n",
       "2                                                         Tetracyclines   \n",
       "3     Miscellaneous antineoplastics, Miscellaneous uncategorized agents   \n",
       "4                          Topical acne agents, Vaginal anti-infectives   \n",
       "...                                                                 ...   \n",
       "2926                                        Anorexiants, CNS stimulants   \n",
       "2927         Anorexiants, CNS stimulants, Miscellaneous anticonvulsants   \n",
       "2928                                        Anorexiants, CNS stimulants   \n",
       "2929                                     Melanocortin receptor agonists   \n",
       "2930                                     Melanocortin receptor agonists   \n",
       "\n",
       "                                                                                                                                                                                                                   brand_names  \\\n",
       "0     Acticlate, Adoxa CK, Adoxa Pak, Adoxa TT, Alodox, Avidoxy, Doryx, Mondoxyne NL, Monodox, Morgidox, Okebo, Oracea, Oraxyl, Periostat Targadox, Vibramycin calcium, Vibramycin Hyclate, Vibramycin monohydrate, Vibra-Tabs   \n",
       "1                                                                                                                                                                                                          Aldactone, CaroSpir   \n",
       "2                                                                                                                                                                  Dynacin, Minocin, Minolira, Solodyn, Ximino, Vectrin, Myrac   \n",
       "3                                                                                                                                                                                                                          NaN   \n",
       "4                                                                                                                                                                    Cleocin T, Clindacin ETZ, Clindacin P, Clindagel, Evoclin   \n",
       "...                                                                                                                                                                                                                        ...   \n",
       "2926                                                                                                                                                                                                           Didrex, Regimex   \n",
       "2927                                                                                                                                                                                                                  Fintepla   \n",
       "2928                                                                                                                                                                                                                       NaN   \n",
       "2929                                                                                                                                                                                                                       NaN   \n",
       "2930                                                                                                                                                                                                                  Imcivree   \n",
       "\n",
       "      activity rx_otc pregnancy_category csa  ...  \\\n",
       "0         87.0     Rx                  D   N  ...   \n",
       "1         82.0     Rx                  C   N  ...   \n",
       "2         48.0     Rx                  D   N  ...   \n",
       "3         41.0     Rx                  X   N  ...   \n",
       "4         39.0     Rx                  B   N  ...   \n",
       "...        ...    ...                ...  ..  ...   \n",
       "2926       2.0     Rx                  X   3  ...   \n",
       "2927       1.0     Rx                  C   4  ...   \n",
       "2928       0.0     Rx                  C   3  ...   \n",
       "2929       0.0     Rx                NaN   N  ...   \n",
       "2930       0.0     Rx                NaN   N  ...   \n",
       "\n",
       "                             medical_condition_url  Hives Difficult Breathing  \\\n",
       "0        https://www.drugs.com/condition/acne.html   True                True   \n",
       "1        https://www.drugs.com/condition/acne.html   True                True   \n",
       "2        https://www.drugs.com/condition/acne.html  False               False   \n",
       "3        https://www.drugs.com/condition/acne.html  False               False   \n",
       "4        https://www.drugs.com/condition/acne.html   True                True   \n",
       "...                                            ...    ...                 ...   \n",
       "2926  https://www.drugs.com/condition/obesity.html   True                True   \n",
       "2927  https://www.drugs.com/condition/obesity.html   True                True   \n",
       "2928  https://www.drugs.com/condition/obesity.html  False               False   \n",
       "2929  https://www.drugs.com/condition/obesity.html  False               False   \n",
       "2930  https://www.drugs.com/condition/obesity.html   True                True   \n",
       "\n",
       "      Itching  Colds & Flu   Acne no urination  jaundice  hallucinations  \\\n",
       "0        True        False   True         True      True           False   \n",
       "1       False        False   True         True     False           False   \n",
       "2        True        False   True         True     False           False   \n",
       "3       False        False   True        False      True            True   \n",
       "4        True        False   True        False     False           False   \n",
       "...       ...          ...    ...          ...       ...             ...   \n",
       "2926    False        False  False        False     False           False   \n",
       "2927     True        False  False        False     False            True   \n",
       "2928    False        False  False        False     False           False   \n",
       "2929    False        False  False        False     False           False   \n",
       "2930    False        False  False        False     False           False   \n",
       "\n",
       "      anxiety  \n",
       "0       False  \n",
       "1       False  \n",
       "2       False  \n",
       "3       False  \n",
       "4       False  \n",
       "...       ...  \n",
       "2926     True  \n",
       "2927     True  \n",
       "2928    False  \n",
       "2929    False  \n",
       "2930    False  \n",
       "\n",
       "[2931 rows x 26 columns]"
      ]
     },
     "execution_count": 76,
     "metadata": {},
     "output_type": "execute_result"
    }
   ],
   "source": [
    "Data_3"
   ]
  },
  {
   "cell_type": "code",
   "execution_count": 77,
   "id": "b67b8dd7-c2d8-441b-b816-a7c6e3da62e3",
   "metadata": {},
   "outputs": [],
   "source": [
    "pd.set_option('display.max_colwidth',20)"
   ]
  },
  {
   "cell_type": "code",
   "execution_count": 78,
   "id": "934c7e55-3263-4565-8967-b5bf54bb04b5",
   "metadata": {},
   "outputs": [
    {
     "data": {
      "text/plain": [
       "Index(['drug_name', 'medical_condition', 'side_effects', 'generic_name',\n",
       "       'drug_classes', 'brand_names', 'activity', 'rx_otc',\n",
       "       'pregnancy_category', 'csa', 'alcohol', 'related_drugs',\n",
       "       'medical_condition_description', 'rating', 'no_of_reviews', 'drug_link',\n",
       "       'medical_condition_url', 'Hives', 'Difficult Breathing', 'Itching',\n",
       "       'Colds & Flu', 'Acne', 'no urination', 'jaundice', 'hallucinations',\n",
       "       'anxiety'],\n",
       "      dtype='object')"
      ]
     },
     "execution_count": 78,
     "metadata": {},
     "output_type": "execute_result"
    }
   ],
   "source": [
    "Data_3.columns\n"
   ]
  },
  {
   "cell_type": "code",
   "execution_count": null,
   "id": "536ad724-c6d6-482f-9dad-bbd571119af1",
   "metadata": {},
   "outputs": [],
   "source": []
  },
  {
   "cell_type": "code",
   "execution_count": 79,
   "id": "4c4ead9a-9f36-49da-beae-bfe1b46af2c0",
   "metadata": {},
   "outputs": [
    {
     "data": {
      "image/png": "[encoded data removed]",
      "text/plain": [
       "<Figure size 1100x600 with 1 Axes>"
      ]
     },
     "metadata": {},
     "output_type": "display_data"
    }
   ],
   "source": [
    "plt.figure(figsize =  (11,6))\n",
    "ax = sns.histplot(data = Data_3, x = 'rating', color = 'Yellow', edgecolor = 'black', alpha = 0.5, bins = [1,2,3,4,5,6,7,8,9,10] )\n",
    "for bar in ax.patches:\n",
    "    height = bar.get_height()\n",
    "    ax.text(bar.get_x() + bar.get_width()/2, height + 0.1, int(height),\n",
    "            ha='center', va='bottom', fontsize=10, color='black')\n",
    "plt.title (\"Count of rating\")\n",
    "plt.xlabel(\"rating\")\n",
    "plt.ylabel(\"Count of People\")\n",
    "plt.xticks([1,2,3,4,5,6,7,8,9,10])\n",
    "\n",
    "plt.show()"
   ]
  },
  {
   "cell_type": "code",
   "execution_count": 80,
   "id": "3e456146-f60a-4598-b5b9-b998f38c7b7c",
   "metadata": {
    "scrolled": true
   },
   "outputs": [
    {
     "data": {
      "text/plain": [
       "<bound method Series.to_string of 0       N\n",
       "1       N\n",
       "2       N\n",
       "3       N\n",
       "4       N\n",
       "       ..\n",
       "2926    3\n",
       "2927    4\n",
       "2928    3\n",
       "2929    N\n",
       "2930    N\n",
       "Name: csa, Length: 2931, dtype: object>"
      ]
     },
     "execution_count": 80,
     "metadata": {},
     "output_type": "execute_result"
    }
   ],
   "source": [
    "Data_3['csa'].to_string"
   ]
  },
  {
   "cell_type": "code",
   "execution_count": 81,
   "id": "967e7787-42a8-459c-9aee-d2de64ed8343",
   "metadata": {},
   "outputs": [
    {
     "name": "stdin",
     "output_type": "stream",
     "text": [
      " B\n"
     ]
    },
    {
     "data": {
      "image/png": "[encoded data removed]",
      "text/plain": [
       "<Figure size 600x600 with 1 Axes>"
      ]
     },
     "metadata": {},
     "output_type": "display_data"
    }
   ],
   "source": [
    "Data_4 = Data_3[Data_3['pregnancy_category'] == input(\"\")]\n",
    "\n",
    "plt.figure(figsize =  (6,6))\n",
    "ax = sns.histplot(data = Data_4, x = 'rx_otc', color = 'Yellow', edgecolor = 'black', alpha = 0.5, binwidth = 0.5 )\n",
    "for bar in ax.patches:\n",
    "    height = bar.get_height()\n",
    "    ax.text(bar.get_x() + bar.get_width()/2, height + 0.1, int(height),\n",
    "            ha='center', va='bottom', fontsize=10, color='black')\n",
    "plt.title (\"Count of rating\")\n",
    "plt.xlabel(\"rating\")\n",
    "plt.ylabel(\"Count of People\")\n",
    "plt.show()"
   ]
  },
  {
   "cell_type": "code",
   "execution_count": 85,
   "id": "fe50b738-d889-4268-8420-4195d18140fa",
   "metadata": {},
   "outputs": [
    {
     "name": "stdin",
     "output_type": "stream",
     "text": [
      " M\n"
     ]
    },
    {
     "data": {
      "image/png": "[encoded data removed]",
      "text/plain": [
       "<Figure size 600x600 with 1 Axes>"
      ]
     },
     "metadata": {},
     "output_type": "display_data"
    }
   ],
   "source": [
    "csa = input(\"\")\n",
    "csa_str = str(csa)\n",
    "Data_5 = Data_3[Data_3['csa'] == csa_str]\n",
    "\n",
    "plt.figure(figsize =  (6,6))\n",
    "ex = sns.histplot(data = Data_5, x = 'rx_otc', color = 'Yellow', edgecolor = 'black', alpha = 0.5, binwidth = 0.5 )\n",
    "for bar in ex.patches:\n",
    "    height = bar.get_height()\n",
    "    ex.text(bar.get_x() + bar.get_width()/2, height + 0.1, int(height),\n",
    "            ha='center', va='bottom', fontsize=10, color='black')\n",
    "plt.title (\"Count of rating\")\n",
    "plt.xlabel(\"rating\")\n",
    "plt.ylabel(\"Count of People\")\n",
    "plt.show()"
   ]
  },
  {
   "cell_type": "code",
   "execution_count": null,
   "id": "aa2ca8e0-83aa-4288-81b6-8d374879dd5f",
   "metadata": {},
   "outputs": [],
   "source": []
  }
 ],
 "metadata": {
  "kernelspec": {
   "display_name": "Python 3 (ipykernel)",
   "language": "python",
   "name": "python3"
  },
  "language_info": {
   "codemirror_mode": {
    "name": "ipython",
    "version": 3
   },
   "file_extension": ".py",
   "mimetype": "text/x-python",
   "name": "python",
   "nbconvert_exporter": "python",
   "pygments_lexer": "ipython3",
   "version": "3.12.9"
  }
 },
 "nbformat": 4,
 "nbformat_minor": 5
}
